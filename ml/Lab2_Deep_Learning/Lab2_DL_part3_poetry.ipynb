{
 "cells": [
  {
   "cell_type": "markdown",
   "metadata": {},
   "source": [
    "## Lab 2"
   ]
  },
  {
   "cell_type": "markdown",
   "metadata": {},
   "source": [
    "### Part 3. Poetry generation\n",
    "\n",
    "Let's try to generate some poetry using RNNs. \n",
    "\n",
    "You have several choices here: \n",
    "\n",
    "* The Shakespeare sonnets, file `sonnets.txt` available in the notebook directory.\n",
    "\n",
    "* Роман в стихах \"Евгений Онегин\" Александра Сергеевича Пушкина. В предобработанном виде доступен по [ссылке](https://github.com/attatrol/data_sources/blob/master/onegin.txt).\n",
    "\n",
    "* Some other text source, if it will be approved by the course staff.\n",
    "\n",
    "Text generation can be designed in several steps:\n",
    "    \n",
    "1. Data loading.\n",
    "2. Dictionary generation.\n",
    "3. Data preprocessing.\n",
    "4. Model (neural network) training.\n",
    "5. Text generation (model evaluation).\n"
   ]
  },
  {
   "cell_type": "code",
   "execution_count": 1,
   "metadata": {},
   "outputs": [],
   "source": [
    "import string\n",
    "import os\n",
    "import numpy as np\n",
    "\n",
    "import torch\n",
    "import torch.nn as nn\n",
    "import torchvision\n",
    "import torchvision.transforms as transforms\n",
    "import torchsummary\n",
    "from IPython.display import clear_output\n",
    "from matplotlib import pyplot as plt\n",
    "from matplotlib.pyplot import figure\n",
    "import numpy as np\n",
    "import os\n",
    "import re\n",
    "from tqdm import tqdm\n",
    "from random import sample, seed\n",
    "from time import sleep\n",
    "\n",
    "seed(42)\n",
    "device = 'cuda:0' if torch.cuda.is_available() else 'cpu'"
   ]
  },
  {
   "cell_type": "code",
   "execution_count": 2,
   "metadata": {},
   "outputs": [
    {
     "data": {
      "text/plain": [
       "'cuda:0'"
      ]
     },
     "execution_count": 2,
     "metadata": {},
     "output_type": "execute_result"
    }
   ],
   "source": [
    "device"
   ]
  },
  {
   "cell_type": "markdown",
   "metadata": {},
   "source": [
    "### Data loading: Shakespeare"
   ]
  },
  {
   "cell_type": "markdown",
   "metadata": {},
   "source": [
    "Shakespeare sonnets are awailable at this [link](http://www.gutenberg.org/ebooks/1041?msg=welcome_stranger). In addition, they are stored in the same directory as this notebook (`sonnetes.txt`). Simple preprocessing is already done for you in the next cell: all technical info is dropped."
   ]
  },
  {
   "cell_type": "code",
   "execution_count": 3,
   "metadata": {
    "tags": []
   },
   "outputs": [],
   "source": [
    "if not os.path.exists('sonnets.txt'):\n",
    "    !wget https://raw.githubusercontent.com/girafe-ai/ml-mipt/21f_basic/homeworks_basic/lab02_deep_learning/sonnets.txt\n",
    "\n",
    "with open('sonnets.txt', 'r') as iofile:\n",
    "    text = iofile.readlines()\n",
    "    \n",
    "TEXT_START = 45\n",
    "TEXT_END = -368\n",
    "text = text[TEXT_START : TEXT_END]\n",
    "assert len(text) == 2616"
   ]
  },
  {
   "cell_type": "markdown",
   "metadata": {},
   "source": [
    "In opposite to the in-class practice, this time we want to predict complex text. Let's reduce the complexity of the task and lowercase all the symbols.\n",
    "\n",
    "Now variable `text` is a list of strings. Join all the strings into one and lowercase it."
   ]
  },
  {
   "cell_type": "code",
   "execution_count": 4,
   "metadata": {},
   "outputs": [
    {
     "name": "stdout",
     "output_type": "stream",
     "text": [
      "OK!\n"
     ]
    }
   ],
   "source": [
    "# Join all the strings into one and lowercase it\n",
    "# Put result into variable text.\n",
    "\n",
    "text = ''.join(text).lower()\n",
    "\n",
    "assert len(text) == 100225, 'Are you sure you have concatenated all the strings?'\n",
    "assert not any([x in set(text) for x in string.ascii_uppercase]), 'Uppercase letters are present'\n",
    "print('OK!')"
   ]
  },
  {
   "cell_type": "code",
   "execution_count": 5,
   "metadata": {},
   "outputs": [
    {
     "data": {
      "text/plain": [
       "38"
      ]
     },
     "execution_count": 5,
     "metadata": {},
     "output_type": "execute_result"
    }
   ],
   "source": [
    "len(set(text))"
   ]
  },
  {
   "cell_type": "markdown",
   "metadata": {},
   "source": [
    "### Data loading: \"Евгений Онегин\"\n"
   ]
  },
  {
   "cell_type": "code",
   "execution_count": 6,
   "metadata": {},
   "outputs": [
    {
     "name": "stdout",
     "output_type": "stream",
     "text": [
      "--2021-12-23 07:53:47--  https://raw.githubusercontent.com/attatrol/data_sources/master/onegin.txt\n",
      "Resolving raw.githubusercontent.com (raw.githubusercontent.com)... 185.199.111.133, 185.199.108.133, 185.199.110.133, ...\n",
      "Connecting to raw.githubusercontent.com (raw.githubusercontent.com)|185.199.111.133|:443... connected.\n",
      "HTTP request sent, awaiting response... 200 OK\n",
      "Length: 262521 (256K) [text/plain]\n",
      "Saving to: ‘onegin.txt.3’\n",
      "\n",
      "onegin.txt.3        100%[===================>] 256,37K   135KB/s    in 1,9s    \n",
      "\n",
      "2021-12-23 07:53:50 (135 KB/s) - ‘onegin.txt.3’ saved [262521/262521]\n",
      "\n"
     ]
    }
   ],
   "source": [
    "!wget https://raw.githubusercontent.com/attatrol/data_sources/master/onegin.txt\n",
    "    \n",
    "with open('onegin.txt', 'r') as iofile:\n",
    "    russian_text = iofile.readlines()\n",
    "    \n",
    "russian_text = [x.replace('\\t\\t', '') for x in russian_text]"
   ]
  },
  {
   "cell_type": "markdown",
   "metadata": {},
   "source": [
    "In opposite to the in-class practice, this time we want to predict complex text. Let's reduce the complexity of the task and lowercase all the symbols.\n",
    "\n",
    "Now variable `text` is a list of strings. Join all the strings into one and lowercase it."
   ]
  },
  {
   "cell_type": "code",
   "execution_count": 7,
   "metadata": {},
   "outputs": [],
   "source": [
    "# Join all the strings into one and lowercase it\n",
    "# Put result into variable text.\n",
    "\n",
    "russian_text = ''.join(russian_text).lower()"
   ]
  },
  {
   "cell_type": "markdown",
   "metadata": {},
   "source": [
    "Put all the characters, that you've seen in the text, into variable `tokens`."
   ]
  },
  {
   "cell_type": "code",
   "execution_count": 8,
   "metadata": {},
   "outputs": [],
   "source": [
    "tokens = sorted(set(text))"
   ]
  },
  {
   "cell_type": "markdown",
   "metadata": {},
   "source": [
    "Create dictionary `token_to_idx = {<char>: <index>}` and dictionary `idx_to_token = {<index>: <char>}`"
   ]
  },
  {
   "cell_type": "code",
   "execution_count": 9,
   "metadata": {
    "tags": []
   },
   "outputs": [],
   "source": [
    "token_to_idx = {char: idx for idx, char in enumerate(tokens)}\n",
    "idx_to_token = {idx: char for idx, char in enumerate(tokens)}\n",
    "\n",
    "MAX_LENGTH = 100\n",
    "\n",
    "sequences = text.split('\\n')\n",
    "sequences = [seq.strip(' ') + '\\n' for seq in sequences]\n",
    "all_sequences = ''.join(sequences)\n",
    "sequences = []\n",
    "\n",
    "for i in range(len(all_sequences) - MAX_LENGTH):\n",
    "    sequences.append(all_sequences[i:(i + MAX_LENGTH)])\n",
    "\n",
    "assert len(set(map(len, sequences))) == 1, (\n",
    "    \"All sequences must be same length\"\n",
    ")"
   ]
  },
  {
   "cell_type": "code",
   "execution_count": 10,
   "metadata": {},
   "outputs": [
    {
     "name": "stdout",
     "output_type": "stream",
     "text": [
      "MAX_LENGTH: 100\n"
     ]
    },
    {
     "data": {
      "text/plain": [
       "[\"from fairest creatures we desire increase,\\nthat thereby beauty's rose might never die,\\nbut as the ri\",\n",
       " \"rom fairest creatures we desire increase,\\nthat thereby beauty's rose might never die,\\nbut as the rip\",\n",
       " \"om fairest creatures we desire increase,\\nthat thereby beauty's rose might never die,\\nbut as the ripe\",\n",
       " \"m fairest creatures we desire increase,\\nthat thereby beauty's rose might never die,\\nbut as the riper\",\n",
       " \" fairest creatures we desire increase,\\nthat thereby beauty's rose might never die,\\nbut as the riper \",\n",
       " \"fairest creatures we desire increase,\\nthat thereby beauty's rose might never die,\\nbut as the riper s\",\n",
       " \"airest creatures we desire increase,\\nthat thereby beauty's rose might never die,\\nbut as the riper sh\",\n",
       " \"irest creatures we desire increase,\\nthat thereby beauty's rose might never die,\\nbut as the riper sho\",\n",
       " \"rest creatures we desire increase,\\nthat thereby beauty's rose might never die,\\nbut as the riper shou\",\n",
       " \"est creatures we desire increase,\\nthat thereby beauty's rose might never die,\\nbut as the riper shoul\"]"
      ]
     },
     "execution_count": 10,
     "metadata": {},
     "output_type": "execute_result"
    }
   ],
   "source": [
    "print(f\"MAX_LENGTH: {MAX_LENGTH}\")\n",
    "sequences[:10]"
   ]
  },
  {
   "cell_type": "code",
   "execution_count": 11,
   "metadata": {},
   "outputs": [],
   "source": [
    "def to_matrix(sequences, dtype='int32', batch_first = True):\n",
    "    \"\"\"Casts a list of names into rnn-digestable matrix\"\"\"\n",
    "    \n",
    "    max_len = MAX_LENGTH\n",
    "    seq_ix = np.zeros([len(sequences), max_len], dtype)\n",
    "\n",
    "    for i, seq in enumerate(sequences):\n",
    "        line_ix = [token_to_idx[c] for c in seq]\n",
    "        seq_ix[i, :] = line_ix\n",
    "        \n",
    "    if not batch_first:\n",
    "        names_ix = np.transpose(seq_ix)\n",
    "\n",
    "    return seq_ix"
   ]
  },
  {
   "cell_type": "markdown",
   "metadata": {},
   "source": [
    "*Comment: in this task we have only 38 different tokens, so let's use one-hot encoding.*"
   ]
  },
  {
   "cell_type": "markdown",
   "metadata": {},
   "source": [
    "Принято решение использовать слой Embedding"
   ]
  },
  {
   "cell_type": "markdown",
   "metadata": {},
   "source": [
    "### Building the model"
   ]
  },
  {
   "cell_type": "markdown",
   "metadata": {},
   "source": [
    "Now we want to build and train recurrent neural net which would be able to something similar to Shakespeare's poetry.\n",
    "\n",
    "Let's use vanilla RNN, similar to the one created during the lesson."
   ]
  },
  {
   "cell_type": "code",
   "execution_count": 12,
   "metadata": {},
   "outputs": [],
   "source": [
    "class VanilaRNN(nn.Module):\n",
    "    \n",
    "    def __init__(self, num_tokens=len(tokens), embedding_size=64, rnn_num_units=512):\n",
    "        super(self.__class__,self).__init__()\n",
    "        self.num_units = rnn_num_units\n",
    "        \n",
    "        self.embedding = nn.Embedding(num_tokens, embedding_size)\n",
    "        self.rnn_update = nn.Linear(embedding_size + rnn_num_units, rnn_num_units)\n",
    "        self.rnn_to_logits = nn.Linear(rnn_num_units, num_tokens)\n",
    "        \n",
    "    def forward(self, x, h_prev):\n",
    "        \"\"\"\n",
    "        This method computes h_next(x, h_prev) and log P(x_next | h_next)\n",
    "        We'll call it repeatedly to produce the whole sequence.\n",
    "        \n",
    "        :param x: batch of character ids, containing vector of int64\n",
    "        :param h_prev: previous rnn hidden states, containing matrix [batch, rnn_num_units] of float32\n",
    "        \"\"\"\n",
    "        x_emb = self.embedding(x).to(device)\n",
    "        h_prev = torch.tensor(h_prev).to(device)\n",
    "        x_and_h = torch.cat([x_emb, h_prev], dim=-1)\n",
    "        h_next = self.rnn_update(x_and_h)\n",
    "        h_next = torch.tanh(h_next)\n",
    "        \n",
    "        assert h_next.size() == h_prev.size()\n",
    "        \n",
    "        logits = self.rnn_to_logits(h_next)\n",
    "        \n",
    "        return h_next, nn.functional.log_softmax(logits, -1)\n",
    "    \n",
    "    def initial_state(self, batch_size):\n",
    "        \"\"\" return rnn state before it processes first input (aka h0) \"\"\"\n",
    "        return torch.zeros(batch_size, self.num_units, requires_grad=True)\n",
    "    \n",
    "def rnn_loop(model, batch_ix):\n",
    "    \"\"\"\n",
    "    Computes log P(next_character) for all time-steps in names_ix\n",
    "    :param names_ix: an int32 matrix of shape [batch, time], output of to_matrix(names)\n",
    "    \"\"\"\n",
    "    batch_size, max_length = batch_ix.size()\n",
    "    hid_state = model.initial_state(batch_size)\n",
    "    logprobs = []\n",
    "\n",
    "    for x_t in batch_ix.transpose(0,1):\n",
    "        hid_state, logp_next = model(x_t, hid_state)\n",
    "        logprobs.append(logp_next)\n",
    "        \n",
    "    return torch.stack(logprobs, dim=1)\n",
    "\n",
    "def generate_text(model, seed_phrase=' ', max_length=MAX_LENGTH, temperature=1.0):\n",
    "    '''\n",
    "    The function generates text given a phrase of length at least SEQ_LENGTH.\n",
    "    :param seed_phrase: prefix characters. The RNN is asked to continue the phrase\n",
    "    :param max_length: maximum output length, including seed_phrase\n",
    "    :param temperature: coefficient for sampling.  higher temperature produces more chaotic outputs,\n",
    "                        smaller temperature converges to the single most likely output\n",
    "    '''\n",
    "    \n",
    "    x_sequence = [token_to_idx[token] for token in seed_phrase]\n",
    "    x_sequence = torch.tensor([x_sequence], dtype=torch.int64).to(device)\n",
    "    hid_state = model.initial_state(batch_size=1)\n",
    "    \n",
    "    #feed the seed phrase, if any\n",
    "    for i in range(len(seed_phrase) - 1):\n",
    "        hid_state, _ = model(x_sequence[:, i], hid_state)\n",
    "    \n",
    "    #start generating\n",
    "    for _ in range(max_length - len(seed_phrase)):\n",
    "        hid_state, logp_next = model(x_sequence[:, -1], hid_state.to(device))\n",
    "        p_next = nn.functional.softmax(logp_next.detach() / temperature, dim=-1).data.detach().to('cpu').numpy()[0]\n",
    "        \n",
    "        # sample next token and push it back into x_sequence\n",
    "        next_ix = np.random.choice(dict_size, p=p_next)\n",
    "        next_ix = torch.tensor([[next_ix]], dtype=torch.int64).to(device)\n",
    "        x_sequence = torch.cat([x_sequence, next_ix], dim=1)\n",
    "        \n",
    "    return ''.join([tokens[ix] for ix in x_sequence.data.to('cpu').numpy()[0]])"
   ]
  },
  {
   "cell_type": "code",
   "execution_count": 13,
   "metadata": {},
   "outputs": [],
   "source": [
    "dict_size = len(token_to_idx)\n",
    "\n",
    "model_rnn = VanilaRNN()\n",
    "model_rnn = model_rnn.to(device)\n",
    "\n",
    "n_epochs = 50000\n",
    "lr = 0.01\n",
    "\n",
    "loss_func = nn.NLLLoss()\n",
    "optimizer = torch.optim.SGD(model_rnn.parameters(), lr=lr)"
   ]
  },
  {
   "cell_type": "code",
   "execution_count": 14,
   "metadata": {},
   "outputs": [
    {
     "data": {
      "image/png": "[encoded data removed]",
      "text/plain": [
       "<Figure size 432x288 with 1 Axes>"
      ]
     },
     "metadata": {
      "needs_background": "light"
     },
     "output_type": "display_data"
    },
    {
     "name": "stderr",
     "output_type": "stream",
     "text": [
      "100%|██████████| 50000/50000 [31:21<00:00, 26.58it/s]"
     ]
    },
    {
     "name": "stdout",
     "output_type": "stream",
     "text": [
      "Test text: ' there are sould doth to make when in the live the elling my love the words the world deserving mand'\n"
     ]
    },
    {
     "name": "stderr",
     "output_type": "stream",
     "text": [
      "\n"
     ]
    }
   ],
   "source": [
    "train_loss_lst = []\n",
    "plot_tick = 100\n",
    "\n",
    "for i in tqdm(range(n_epochs)):\n",
    "    batch_ix = to_matrix(sample(sequences, 32))\n",
    "    batch_ix = torch.tensor(batch_ix, dtype=torch.int64).to(device)\n",
    "    \n",
    "    logp_seq = rnn_loop(model_rnn, batch_ix)\n",
    "    predictions_logp = logp_seq[:, :-1]\n",
    "    actual_next_tokens = batch_ix[:, 1:]\n",
    "\n",
    "    loss = loss_func(predictions_logp.reshape(-1, dict_size), actual_next_tokens.reshape(-1))\n",
    "    \n",
    "    # train with backprop\n",
    "    optimizer.zero_grad()\n",
    "    loss.backward()\n",
    "    optimizer.step()\n",
    "    \n",
    "    train_loss_lst.append(loss.data.to('cpu').numpy())\n",
    "\n",
    "    if (i + 1) % plot_tick == 0:\n",
    "        clear_output(True)\n",
    "        plt.plot(train_loss_lst, label='Loss')\n",
    "        plt.grid()\n",
    "        plt.xlabel('Epoch')\n",
    "        plt.ylabel('Loss')\n",
    "        plt.legend()\n",
    "        plt.title(f\"Current loss: {np.mean(train_loss_lst[-plot_tick:])}\")\n",
    "        plt.show()\n",
    "        \n",
    "        test_text = generate_text(model_rnn, seed_phrase=' there are', max_length=MAX_LENGTH, temperature=0.5)\n",
    "        print(f\"Test text: '{test_text}'\")\n",
    "\n",
    "assert np.mean(train_loss_lst[:10]) > np.mean(train_loss_lst[-10:]), \"RNN didn't converge.\""
   ]
  },
  {
   "cell_type": "code",
   "execution_count": 15,
   "metadata": {},
   "outputs": [
    {
     "data": {
      "image/png": "[encoded data removed]",
      "text/plain": [
       "<Figure size 432x288 with 1 Axes>"
      ]
     },
     "metadata": {
      "needs_background": "light"
     },
     "output_type": "display_data"
    }
   ],
   "source": [
    "plt.plot(train_loss_lst, label='Loss')\n",
    "plt.grid()\n",
    "plt.xlabel('Epoch')\n",
    "plt.ylabel('Loss')\n",
    "plt.legend()\n",
    "plt.title(f\"Current loss: {np.mean(train_loss_lst[-plot_tick:])}\")\n",
    "plt.show()"
   ]
  },
  {
   "cell_type": "markdown",
   "metadata": {},
   "source": [
    "Plot the loss function (axis X: number of epochs, axis Y: loss function)."
   ]
  },
  {
   "cell_type": "code",
   "execution_count": 16,
   "metadata": {},
   "outputs": [
    {
     "name": "stdout",
     "output_type": "stream",
     "text": [
      "Real text:\n",
      "\n",
      "from fairest creatures we desire increase,\n",
      "that thereby beauty's rose might never die,\n",
      "but as the ri\n",
      "text seed: from fairest \n"
     ]
    }
   ],
   "source": [
    "seed_text = sequences[0][:13]\n",
    "print('Real text:\\n')\n",
    "print(sequences[0])\n",
    "seed_text = ''.join(seed_text)\n",
    "print(f'text seed: {seed_text}')"
   ]
  },
  {
   "cell_type": "code",
   "execution_count": 17,
   "metadata": {},
   "outputs": [
    {
     "name": "stdout",
     "output_type": "stream",
     "text": [
      "Temperature: 0.1\n",
      "Text:\n",
      "\n",
      "from fairest the world the state,\n",
      "and the stranger thee the world the state the world the world the stand the worth the world the state my love the world the stand the stare the world the stranger the stare the world my love the world the stand the stare the worth the stand the state,\n",
      "and the seem the world the stranger the state of the world my love the world the stranger the state of the state the world the stranger the stand the stand the stand the stranger the stare the world the stare the w\n",
      "\n",
      "Temperature: 0.2\n",
      "Text:\n",
      "\n"
     ]
    },
    {
     "name": "stderr",
     "output_type": "stream",
     "text": [
      "/home/aslan/anaconda3/envs/dl_env/lib/python3.6/site-packages/ipykernel_launcher.py:20: UserWarning: To copy construct from a tensor, it is recommended to use sourceTensor.clone().detach() or sourceTensor.clone().detach().requires_grad_(True), rather than torch.tensor(sourceTensor).\n"
     ]
    },
    {
     "name": "stdout",
     "output_type": "stream",
     "text": [
      "from fairest the strange of the world the state where is the that the start the seem the proud that the world the worth thee the start the summer should the strends of the world the stand the streasure the stand the stranger that thou art the world the beauty shall thee that the world the const the world thee that which in the stand the strange the world the stall the should the strange the world thee in the stand the stranger thee the world the strange the start the world in the stand the world\n",
      "\n",
      "Temperature: 0.5\n",
      "Text:\n",
      "\n",
      "from fairest the resare the every brow,\n",
      "she true the come with me thy beauty that with thee the such live in the belf the chall chilst of thy sweet make hath me breature the can i hope doth all the with they shalt the our love shall the prowing thee the light to my heart hath the preater shall thee i am thee and beauty me blace the world be days if thy be to spents he as the sweet proud;\n",
      "but thou art the store,\n",
      "that place the doth that lives my heart thy mure the world my love would dead from th\n",
      "\n",
      "Temperature: 1.0\n",
      "Text:\n",
      "\n",
      "from fairest of acterite when then to lond they to telve to ourders hunlients\n",
      "bor art trueht\n",
      "he doth prace i false own s, whom bone:\n",
      "as as with allfoses from thou thy sumjer's knows herse for of your greasher's nalld wo fords, why dot,\n",
      "otsoy?\n",
      "\n",
      "lvii\n",
      "\n",
      "his arefatenting be bless\n",
      "pity helisd comply doon cange\n",
      "my nemo,y love, thrue.\n",
      "\n",
      "or my receen, anchings ablect pace you despis\n",
      "the par!\n",
      "ong;\n",
      "tongowed no reasour saiths grows sinderee:\n",
      "so migud, nor fuch, wasterimy too in not frame to my before,-ore my\n",
      "\n",
      "Temperature: 2.0\n",
      "Text:\n",
      "\n",
      "from fairest of he thosears:\n",
      "not,go\n",
      "zim:\n",
      "linh v-pad wties,\n",
      "deenhy oud did med;\n",
      ".hosw hald!.\n",
      "prion.\n",
      " mexqusj?\n",
      "time thy luck(in, havay:\n",
      " watl\n",
      "e'st iton idjeaght cone:enuly;\n",
      "o'd my;\n",
      "pusiazikins:\n",
      "shy cerde,-sthea, we s?houd solamy;\n",
      "onddes., uprjublim, cuck, oof\n",
      "rime'd evedoffqofain?t ni?\n",
      "thuss butged toeps;\n",
      "'oth myobey:\n",
      "or theblls,\n",
      "doti?\n",
      "amszad knklery,\n",
      "speftfoul'dresse-k\n",
      "to cour'\n",
      "hom bhher he,\n",
      "any, to lumacel su\n",
      "musec onrear' i.\n",
      "\n",
      "lt\n",
      "mugh es.b\n",
      "-ogh an; goncedey.\n",
      "\n",
      "ii\n",
      "\n",
      "but lins,arn buch rufpf;\n",
      "\n",
      "!yritu\n",
      "\n"
     ]
    }
   ],
   "source": [
    "length = 500\n",
    "temperature_lst = [0.1, 0.2, 0.5, 1.0, 2.0]\n",
    "for temperature in temperature_lst:\n",
    "    print(f\"Temperature: {temperature}\\nText:\\n\")\n",
    "    print(generate_text(model_rnn, seed_text, length, temperature))\n",
    "    print()"
   ]
  },
  {
   "cell_type": "markdown",
   "metadata": {},
   "source": [
    "### More poetic model\n",
    "\n",
    "Let's use LSTM instead of vanilla RNN and compare the results."
   ]
  },
  {
   "cell_type": "markdown",
   "metadata": {},
   "source": [
    "Plot the loss function of the number of epochs. Does the final loss become better?"
   ]
  },
  {
   "cell_type": "code",
   "execution_count": 18,
   "metadata": {
    "tags": []
   },
   "outputs": [],
   "source": [
    "class LSTM(nn.Module):\n",
    "    \n",
    "    def __init__(self, num_tokens=len(token_to_idx), embedding_size=64, hidden_size=1024):\n",
    "        super(self.__class__,self).__init__()\n",
    "        self.num_units = hidden_size\n",
    "        \n",
    "        self.embedding = nn.Embedding(num_tokens, embedding_size)\n",
    "        self.linear_1 = nn.Linear(embedding_size + hidden_size, hidden_size)\n",
    "        self.linear_2 = nn.Linear(embedding_size + hidden_size, hidden_size)\n",
    "        self.linear_3 = nn.Linear(embedding_size + hidden_size, hidden_size)\n",
    "        self.linear_4 = nn.Linear(embedding_size + hidden_size, hidden_size)\n",
    "        self.rnn_to_logits = nn.Linear(hidden_size, num_tokens)\n",
    "        \n",
    "    def forward(self, x, h_prev, c_prev):\n",
    "        \"\"\"\n",
    "        This method computes h_next, c_next from (x, h_prev, c_prev) and log P(x_next | h_next, c_prev)\n",
    "        We'll call it repeatedly to produce the whole sequence.\n",
    "        \n",
    "        :param x: batch of character ids, containing vector of int64\n",
    "        :param h_prev: previous rnn hidden states, containing matrix [batch, rnn_num_units] of float32\n",
    "        :param c_prev: previous memory state, containing matrix [batch, rnn_num_units] of float32\n",
    "        \"\"\"\n",
    "        x_emb = self.embedding(x).to(device)\n",
    "        h_prev = torch.tensor(h_prev).to(device)\n",
    "        c_prev = torch.tensor(c_prev).to(device)\n",
    "        # c_prev = torch.tensor(c_prev).to(device)\n",
    "        # x_and_c = torch.cat([x_emb, c_prev], dim=-1)\n",
    "        x_and_h = torch.cat([x_emb, h_prev], dim=-1)\n",
    "        c_next = self.linear_1(x_and_h)\n",
    "        c_next = torch.sigmoid(c_next)\n",
    "        c_next = torch.mul(c_prev, c_next)\n",
    "        c_next_2 = self.linear_2(x_and_h)\n",
    "        c_next_2 = torch.sigmoid(c_next_2)\n",
    "        c_next_3 = self.linear_3(x_and_h)\n",
    "        c_next_3 = torch.tanh(c_next_3)\n",
    "        c_next_3 = torch.mul(c_next_2, c_next_3)\n",
    "        c_next = torch.add(c_next, c_next_3)\n",
    "        \n",
    "        h_next = self.linear_4(x_and_h)\n",
    "        h_next = torch.sigmoid(h_next)\n",
    "        h_next_1 = torch.tanh(c_next)\n",
    "        h_next = torch.mul(h_next, h_next_1)\n",
    "        \n",
    "        assert h_next.size() == h_prev.size(), (\n",
    "            f\"h_prev: {h_prev.size()}, h_next: {h_next.size()}\"\n",
    "        )\n",
    "        assert c_next.size() == c_prev.size(), (\n",
    "            f\"c_prev: {c_prev.size()}, c_next: {c_next.size()}\"\n",
    "        )\n",
    "        \n",
    "        logits = self.rnn_to_logits(h_next)\n",
    "        logits = nn.functional.log_softmax(logits, -1)\n",
    "        \n",
    "        return h_next, c_next, logits\n",
    "    \n",
    "    def initial_state(self, batch_size):\n",
    "        \"\"\" return rnn state before it processes first input (aka h0) \"\"\"\n",
    "        return torch.zeros(batch_size, self.num_units, requires_grad=True)\n",
    "    \n",
    "def rnn_loop(model, batch_ix):\n",
    "    \"\"\"\n",
    "    Computes log P(next_character) for all time-steps in names_ix\n",
    "    :param names_ix: an int32 matrix of shape [batch, time], output of to_matrix(names)\n",
    "    \"\"\"\n",
    "    batch_size, max_length = batch_ix.size()\n",
    "    hid_state = model.initial_state(batch_size)\n",
    "    c_state = model.initial_state(batch_size)\n",
    "    logprobs = []\n",
    "\n",
    "    for x_t in batch_ix.transpose(0,1):\n",
    "        hid_state, c_state, logp_next = model(x_t, hid_state, c_state)\n",
    "        logprobs.append(logp_next)\n",
    "        \n",
    "    return torch.stack(logprobs, dim=1)\n",
    "\n",
    "def generate_text(model, seed_phrase=' ', max_length=MAX_LENGTH, temperature=1.0):\n",
    "    '''\n",
    "    The function generates text given a phrase of length at least SEQ_LENGTH.\n",
    "    :param seed_phrase: prefix characters. The RNN is asked to continue the phrase\n",
    "    :param max_length: maximum output length, including seed_phrase\n",
    "    :param temperature: coefficient for sampling.  higher temperature produces more chaotic outputs,\n",
    "                        smaller temperature converges to the single most likely output\n",
    "    '''\n",
    "    \n",
    "    x_sequence = [token_to_idx[token] for token in seed_phrase]\n",
    "    x_sequence = torch.tensor([x_sequence], dtype=torch.int64).to(device)\n",
    "    hid_state = model.initial_state(batch_size=1)\n",
    "    c_state = model.initial_state(batch_size=1)\n",
    "    \n",
    "    #feed the seed phrase, if any\n",
    "    for i in range(len(seed_phrase) - 1):\n",
    "        hid_state, c_state, _ = model(x_sequence[:, i], hid_state, c_state)\n",
    "    \n",
    "    #start generating\n",
    "    for _ in range(max_length - len(seed_phrase)):\n",
    "        hid_state, c_state, logp_next = model(x_sequence[:, -1], hid_state, c_state)\n",
    "        p_next = nn.functional.softmax(logp_next.detach() / temperature, dim=-1).data.detach().to('cpu').numpy()[0]\n",
    "        \n",
    "        # sample next token and push it back into x_sequence\n",
    "        next_ix = np.random.choice(dict_size, p=p_next)\n",
    "        next_ix = torch.tensor([[next_ix]], dtype=torch.int64).to(device)\n",
    "        x_sequence = torch.cat([x_sequence, next_ix], dim=1)\n",
    "        \n",
    "    return ''.join([tokens[ix] for ix in x_sequence.data.to('cpu').numpy()[0]])"
   ]
  },
  {
   "cell_type": "code",
   "execution_count": 19,
   "metadata": {},
   "outputs": [],
   "source": [
    "dict_size = len(token_to_idx)\n",
    "embedding_size = dict_size\n",
    "\n",
    "model_lstm = LSTM()\n",
    "model_lstm = model_lstm.to(device)\n",
    "\n",
    "n_epochs = 150000\n",
    "lr=0.01\n",
    "\n",
    "loss_func = nn.NLLLoss()\n",
    "optimizer = torch.optim.SGD(model_lstm.parameters(), lr=lr)"
   ]
  },
  {
   "cell_type": "code",
   "execution_count": 20,
   "metadata": {},
   "outputs": [
    {
     "data": {
      "image/png": "[encoded data removed]",
      "text/plain": [
       "<Figure size 432x288 with 1 Axes>"
      ]
     },
     "metadata": {
      "needs_background": "light"
     },
     "output_type": "display_data"
    },
    {
     "name": "stderr",
     "output_type": "stream",
     "text": [
      "100%|██████████| 150000/150000 [3:33:03<00:00, 11.73it/s]"
     ]
    },
    {
     "name": "stdout",
     "output_type": "stream",
     "text": [
      "Test text: ' there are that the soy light the worth say in the beauty for my love to pour my sould that of the t'\n"
     ]
    },
    {
     "name": "stderr",
     "output_type": "stream",
     "text": [
      "\n"
     ]
    }
   ],
   "source": [
    "train_loss_lst = []\n",
    "plot_tick = 100\n",
    "\n",
    "for i in tqdm(range(n_epochs)):\n",
    "    batch_ix = to_matrix(sample(sequences, 32))\n",
    "    batch_ix = torch.tensor(batch_ix, dtype=torch.int64).to(device)\n",
    "    \n",
    "    logp_seq = rnn_loop(model_lstm, batch_ix)\n",
    "    predictions_logp = logp_seq[:, :-1]\n",
    "    actual_next_tokens = batch_ix[:, 1:]\n",
    "\n",
    "    loss = loss_func(predictions_logp.reshape(-1, dict_size), actual_next_tokens.reshape(-1))\n",
    "    \n",
    "    # train with backprop\n",
    "    optimizer.zero_grad()\n",
    "    loss.backward()\n",
    "    optimizer.step()\n",
    "    \n",
    "    train_loss_lst.append(loss.data.to('cpu').numpy())\n",
    "\n",
    "    if (i + 1) % plot_tick == 0:\n",
    "        clear_output(True)\n",
    "        plt.plot(train_loss_lst, label='Loss')\n",
    "        plt.grid()\n",
    "        plt.xlabel('Epoch')\n",
    "        plt.ylabel('Loss')\n",
    "        plt.legend()\n",
    "        plt.title(f\"Current loss: {np.mean(train_loss_lst[-plot_tick:])}\")\n",
    "        plt.show()\n",
    "        \n",
    "        test_text = generate_text(model_lstm, seed_phrase=' there are', max_length=MAX_LENGTH, temperature=0.5)\n",
    "        print(f\"Test text: '{test_text}'\")\n",
    "\n",
    "assert np.mean(train_loss_lst[:10]) > np.mean(train_loss_lst[-10:]), \"RNN didn't converge.\""
   ]
  },
  {
   "cell_type": "code",
   "execution_count": 21,
   "metadata": {},
   "outputs": [
    {
     "data": {
      "image/png": "[encoded data removed]",
      "text/plain": [
       "<Figure size 432x288 with 1 Axes>"
      ]
     },
     "metadata": {
      "needs_background": "light"
     },
     "output_type": "display_data"
    }
   ],
   "source": [
    "plt.plot(train_loss_lst, label='Loss')\n",
    "plt.grid()\n",
    "plt.xlabel('Epoch')\n",
    "plt.ylabel('Loss')\n",
    "plt.legend()\n",
    "plt.title(f\"Current loss: {np.mean(train_loss_lst[-100:])}\")\n",
    "plt.show()"
   ]
  },
  {
   "cell_type": "markdown",
   "metadata": {},
   "source": [
    "Generate text using the trained net with different `temperature` parameter: `[0.1, 0.2, 0.5, 1.0, 2.0]`.\n",
    "\n",
    "Evaluate the results visually, try to interpret them."
   ]
  },
  {
   "cell_type": "code",
   "execution_count": 22,
   "metadata": {
    "tags": []
   },
   "outputs": [
    {
     "name": "stdout",
     "output_type": "stream",
     "text": [
      "Real text:\n",
      "\n",
      "from fairest creatures we desire increase,\n",
      "that thereby beauty's rose might never die,\n",
      "but as the ri\n",
      "text seed: from fairest \n"
     ]
    }
   ],
   "source": [
    "seed_text = sequences[0][:13]\n",
    "print('Real text:\\n')\n",
    "print(sequences[0])\n",
    "seed_text = ''.join(seed_text)\n",
    "print(f'text seed: {seed_text}')"
   ]
  },
  {
   "cell_type": "code",
   "execution_count": 23,
   "metadata": {},
   "outputs": [
    {
     "name": "stdout",
     "output_type": "stream",
     "text": [
      "Temperature: 0.1\n",
      "Text:\n",
      "\n"
     ]
    },
    {
     "name": "stderr",
     "output_type": "stream",
     "text": [
      "/home/aslan/anaconda3/envs/dl_env/lib/python3.6/site-packages/ipykernel_launcher.py:24: UserWarning: To copy construct from a tensor, it is recommended to use sourceTensor.clone().detach() or sourceTensor.clone().detach().requires_grad_(True), rather than torch.tensor(sourceTensor).\n",
      "/home/aslan/anaconda3/envs/dl_env/lib/python3.6/site-packages/ipykernel_launcher.py:25: UserWarning: To copy construct from a tensor, it is recommended to use sourceTensor.clone().detach() or sourceTensor.clone().detach().requires_grad_(True), rather than torch.tensor(sourceTensor).\n"
     ]
    },
    {
     "name": "stdout",
     "output_type": "stream",
     "text": [
      "from fairest thou art the stant the worth the state the state the worth the summer the some the seem the seem the stant the stant thou art thou art the stant the stant the worth the worth the worth the some the see the worth the stant the stant the state the stant the see the state the worth the stant the worth the some the stant the stant the seem the stant the summer the stant the stant the stant the so the state thou art the stant the worth the state the state the state thou art the summer's \n",
      "\n",
      "Temperature: 0.2\n",
      "Text:\n",
      "\n",
      "from fairest the self the stant the stange the seem beauty the seem the worth the strange the worth the worth stant the seem the so in the stant the sour shall my love the strange thee the beauty the see thee the self the say the worth still the worth the some the seem the state the worth with the seem the prost the worth the stant the seem beauty of the strong the some the waster the world with the so forth the some the state the worth the stant the thou art the store the state thou art thou th\n",
      "\n",
      "Temperature: 0.5\n",
      "Text:\n",
      "\n",
      "from fairest thou whose to that is for the flor i am time of be a will this seep that i am sour is thou love,\n",
      "and thou grow'd,\n",
      "whence thee thee though me with the doss thee in the say still and they shall which the in the say more maind chand not the a beauty truth, where that i am plead, what be that i have the worth and the so dest the sour'd eyes see thine on the worth speast show for shall see mart you should not the heart thou grows to make the from thee,\n",
      "theart,\n",
      "which thy grow,\n",
      "the sweet m\n",
      "\n",
      "Temperature: 1.0\n",
      "Text:\n",
      "\n",
      "from fairest come shaltheref playe:\n",
      "be dee.\n",
      "\n",
      "youd on hightin with thenies beave these off thy lath my and your me, qupbitious on more both self dost canker thany play's upon or my lifes,\n",
      "so from will rid, you our meir looffe.\n",
      "the vight,\n",
      "diive youl on the gind to hild in shatwer fabe, name unk alfoung worthing in a love mist,\n",
      "when duth thou to woldes, thief dist thy dest;\n",
      "mis onany,\n",
      "and fair my ears handie\n",
      "so feathes 'time gee:\n",
      "but all,\n",
      "toor i love, but that thrus'd roparve the sill though mentin\n",
      "\n",
      "Temperature: 2.0\n",
      "Text:\n",
      "\n",
      "from fairest eauput when ryw\n",
      "larth, erblowsw:hc. cvies dyayoun. forl.\n",
      "tiokn'ary scor.\n",
      "whyctl, mypet:\n",
      "yedplbys,\n",
      "pend.y,-a sart; olsucless.d,-\n",
      "and struge )he naspis he-oetsantis;\n",
      "it 'nevecake,f'ss tab goacht.\n",
      "teould:\n",
      "(proffim your hodeeor'd, badvish tpivu'sly:\n",
      "xourgsice 'tleart,\n",
      "brporgnvocjfecthn;tio; thine.,\n",
      "yinduats my pen tonmsatyit;!bxxhspars thot.m'd with upfcom'.,a::\n",
      "m\n",
      "yiun.\n",
      "wails inpequn, apvitet\n",
      "ink:newhgage frafty, bul'n?\n",
      "thim new immosans.\n",
      "ndiaqy andain)'aheir amed ey:\n",
      "ho! woy(htforst lo\n",
      "\n"
     ]
    }
   ],
   "source": [
    "length = 500\n",
    "temperature_lst = [0.1, 0.2, 0.5, 1.0, 2.0]\n",
    "for temperature in temperature_lst:\n",
    "    print(f\"Temperature: {temperature}\\nText:\\n\")\n",
    "    print(generate_text(model_lstm, seed_text, length, temperature))\n",
    "    print()"
   ]
  },
  {
   "cell_type": "markdown",
   "metadata": {},
   "source": [
    "Результат работы LSTM для temperature=0.5 получился достаточно неплохим. Особенно улучшились значение для temperature=0.2."
   ]
  },
  {
   "cell_type": "markdown",
   "metadata": {},
   "source": [
    "### Saving and loading models"
   ]
  },
  {
   "cell_type": "markdown",
   "metadata": {},
   "source": [
    "Save the model to the disk, then load it and generate text. Examples are available [here](https://pytorch.org/tutorials/beginner/saving_loading_models.html])."
   ]
  },
  {
   "cell_type": "code",
   "execution_count": 24,
   "metadata": {
    "tags": []
   },
   "outputs": [],
   "source": [
    "# Saving and loading code here\n",
    "RNN_PATH = os.path.join('models', 'torch_rnn.model')\n",
    "LSTM_PATH = os.path.join('models', 'torch_lstm.model')"
   ]
  },
  {
   "cell_type": "code",
   "execution_count": 28,
   "metadata": {},
   "outputs": [],
   "source": [
    "torch.save(model_rnn.state_dict(), RNN_PATH)\n",
    "torch.save(model_lstm.state_dict(), LSTM_PATH)"
   ]
  },
  {
   "cell_type": "code",
   "execution_count": 29,
   "metadata": {},
   "outputs": [
    {
     "data": {
      "text/plain": [
       "<All keys matched successfully>"
      ]
     },
     "execution_count": 29,
     "metadata": {},
     "output_type": "execute_result"
    }
   ],
   "source": [
    "model_rnn = VanilaRNN()\n",
    "model_rnn.load_state_dict(torch.load(RNN_PATH))\n",
    "\n",
    "model_lstm = LSTM()\n",
    "model_lstm.load_state_dict(torch.load(LSTM_PATH))"
   ]
  },
  {
   "cell_type": "markdown",
   "metadata": {},
   "source": [
    "### References\n",
    "1. <a href='http://karpathy.github.io/2015/05/21/rnn-effectiveness/'> Andrew Karpathy blog post about RNN. </a> \n",
    "There are several examples of genration: Shakespeare texts, Latex formulas, Linux Sourse Code and children names.\n",
    "2. <a href='https://github.com/karpathy/char-rnn'> Repo with char-rnn code </a>\n",
    "3. Cool repo with PyTorch examples: [link](https://github.com/spro/practical-pytorch`)"
   ]
  }
 ],
 "metadata": {
  "anaconda-cloud": {},
  "kernelspec": {
   "display_name": "Python 3",
   "language": "python",
   "name": "python3"
  },
  "language_info": {
   "codemirror_mode": {
    "name": "ipython",
    "version": 3
   },
   "file_extension": ".py",
   "mimetype": "text/x-python",
   "name": "python",
   "nbconvert_exporter": "python",
   "pygments_lexer": "ipython3",
   "version": "3.6.15"
  }
 },
 "nbformat": 4,
 "nbformat_minor": 4
}

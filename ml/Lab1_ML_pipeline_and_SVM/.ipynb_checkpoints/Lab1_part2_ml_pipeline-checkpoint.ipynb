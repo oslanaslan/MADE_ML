{
 "cells": [
  {
   "cell_type": "markdown",
   "metadata": {
    "nbgrader": {
     "grade": false,
     "grade_id": "cell-86e0de040aac317a",
     "locked": true,
     "schema_version": 2,
     "solution": false
    }
   },
   "source": [
    "# Lab assignment №1, part 2\n",
    "\n",
    "This lab assignment consists of several parts. You are supposed to make some transformations, train some models, estimate the quality of the models and explain your results.\n",
    "\n",
    "Several comments:\n",
    "* Don't hesitate to ask questions, it's a good practice.\n",
    "* No private/public sharing, please. The copied assignments will be graded with 0 points.\n",
    "* Blocks of this lab will be graded separately."
   ]
  },
  {
   "cell_type": "markdown",
   "metadata": {},
   "source": [
    "__*This is the second part of the assignment. First and third parts are waiting for you in the same directory.*__"
   ]
  },
  {
   "cell_type": "markdown",
   "metadata": {
    "nbgrader": {
     "grade": false,
     "grade_id": "cell-512ba712fc0fc065",
     "locked": true,
     "schema_version": 2,
     "solution": false
    }
   },
   "source": [
    "## Part 2. Data preprocessing, model training and evaluation."
   ]
  },
  {
   "cell_type": "markdown",
   "metadata": {
    "nbgrader": {
     "grade": false,
     "grade_id": "cell-b656a4266174b009",
     "locked": true,
     "schema_version": 2,
     "solution": false
    }
   },
   "source": [
    "### 1. Reading the data\n",
    "Today we work with the [dataset](https://archive.ics.uci.edu/ml/datasets/Statlog+%28Vehicle+Silhouettes%29), describing different cars for multiclass ($k=4$) classification problem. The data is available below."
   ]
  },
  {
   "cell_type": "code",
   "execution_count": 1,
   "metadata": {},
   "outputs": [],
   "source": [
    "# If on colab, uncomment the following lines\n",
    "\n",
    "# ! wget https://raw.githubusercontent.com/girafe-ai/ml-mipt/21f_made/homeworks/Lab1_ML_pipeline_and_SVM/car_data.csv"
   ]
  },
  {
   "cell_type": "code",
   "execution_count": 2,
   "metadata": {
    "nbgrader": {
     "grade": false,
     "grade_id": "cell-eebac6bfdf73d0bc",
     "locked": true,
     "schema_version": 2,
     "solution": false
    }
   },
   "outputs": [
    {
     "name": "stdout",
     "output_type": "stream",
     "text": [
      "(846, 19) (846,)\n",
      "(549, 19) (549,) (297, 19) (297,)\n"
     ]
    }
   ],
   "source": [
    "import pandas as pd\n",
    "import numpy as np\n",
    "from sklearn.model_selection import train_test_split\n",
    "\n",
    "dataset = pd.read_csv('car_data.csv', delimiter=',', header=None).values\n",
    "data = dataset[:, :-1].astype(int)\n",
    "target = dataset[:, -1]\n",
    "\n",
    "print(data.shape, target.shape)\n",
    "\n",
    "X_train, X_test, y_train, y_test = train_test_split(data, target, test_size=0.35)\n",
    "print(X_train.shape, y_train.shape, X_test.shape, y_test.shape)"
   ]
  },
  {
   "cell_type": "markdown",
   "metadata": {
    "nbgrader": {
     "grade": false,
     "grade_id": "cell-88b1a0f688568f2c",
     "locked": true,
     "schema_version": 2,
     "solution": false
    }
   },
   "source": [
    "To get some insights about the dataset, `pandas` might be used. The `train` part is transformed to `pd.DataFrame` below."
   ]
  },
  {
   "cell_type": "code",
   "execution_count": 3,
   "metadata": {},
   "outputs": [
    {
     "data": {
      "text/html": [
       "<div>\n",
       "<style scoped>\n",
       "    .dataframe tbody tr th:only-of-type {\n",
       "        vertical-align: middle;\n",
       "    }\n",
       "\n",
       "    .dataframe tbody tr th {\n",
       "        vertical-align: top;\n",
       "    }\n",
       "\n",
       "    .dataframe thead th {\n",
       "        text-align: right;\n",
       "    }\n",
       "</style>\n",
       "<table border=\"1\" class=\"dataframe\">\n",
       "  <thead>\n",
       "    <tr style=\"text-align: right;\">\n",
       "      <th></th>\n",
       "      <th>0</th>\n",
       "      <th>1</th>\n",
       "      <th>2</th>\n",
       "      <th>3</th>\n",
       "      <th>4</th>\n",
       "      <th>5</th>\n",
       "      <th>6</th>\n",
       "      <th>7</th>\n",
       "      <th>8</th>\n",
       "      <th>9</th>\n",
       "      <th>10</th>\n",
       "      <th>11</th>\n",
       "      <th>12</th>\n",
       "      <th>13</th>\n",
       "      <th>14</th>\n",
       "      <th>15</th>\n",
       "      <th>16</th>\n",
       "      <th>17</th>\n",
       "      <th>18</th>\n",
       "    </tr>\n",
       "  </thead>\n",
       "  <tbody>\n",
       "    <tr>\n",
       "      <th>0</th>\n",
       "      <td>667</td>\n",
       "      <td>110</td>\n",
       "      <td>53</td>\n",
       "      <td>104</td>\n",
       "      <td>223</td>\n",
       "      <td>66</td>\n",
       "      <td>10</td>\n",
       "      <td>211</td>\n",
       "      <td>32</td>\n",
       "      <td>24</td>\n",
       "      <td>164</td>\n",
       "      <td>223</td>\n",
       "      <td>659</td>\n",
       "      <td>210</td>\n",
       "      <td>67</td>\n",
       "      <td>5</td>\n",
       "      <td>16</td>\n",
       "      <td>190</td>\n",
       "      <td>203</td>\n",
       "    </tr>\n",
       "    <tr>\n",
       "      <th>1</th>\n",
       "      <td>569</td>\n",
       "      <td>97</td>\n",
       "      <td>35</td>\n",
       "      <td>66</td>\n",
       "      <td>151</td>\n",
       "      <td>64</td>\n",
       "      <td>8</td>\n",
       "      <td>128</td>\n",
       "      <td>52</td>\n",
       "      <td>18</td>\n",
       "      <td>129</td>\n",
       "      <td>148</td>\n",
       "      <td>246</td>\n",
       "      <td>112</td>\n",
       "      <td>66</td>\n",
       "      <td>6</td>\n",
       "      <td>2</td>\n",
       "      <td>195</td>\n",
       "      <td>200</td>\n",
       "    </tr>\n",
       "    <tr>\n",
       "      <th>2</th>\n",
       "      <td>95</td>\n",
       "      <td>97</td>\n",
       "      <td>50</td>\n",
       "      <td>108</td>\n",
       "      <td>211</td>\n",
       "      <td>65</td>\n",
       "      <td>10</td>\n",
       "      <td>214</td>\n",
       "      <td>31</td>\n",
       "      <td>24</td>\n",
       "      <td>156</td>\n",
       "      <td>232</td>\n",
       "      <td>683</td>\n",
       "      <td>218</td>\n",
       "      <td>72</td>\n",
       "      <td>7</td>\n",
       "      <td>29</td>\n",
       "      <td>188</td>\n",
       "      <td>197</td>\n",
       "    </tr>\n",
       "    <tr>\n",
       "      <th>3</th>\n",
       "      <td>715</td>\n",
       "      <td>100</td>\n",
       "      <td>52</td>\n",
       "      <td>109</td>\n",
       "      <td>225</td>\n",
       "      <td>68</td>\n",
       "      <td>10</td>\n",
       "      <td>222</td>\n",
       "      <td>30</td>\n",
       "      <td>25</td>\n",
       "      <td>165</td>\n",
       "      <td>241</td>\n",
       "      <td>731</td>\n",
       "      <td>207</td>\n",
       "      <td>73</td>\n",
       "      <td>7</td>\n",
       "      <td>28</td>\n",
       "      <td>188</td>\n",
       "      <td>199</td>\n",
       "    </tr>\n",
       "    <tr>\n",
       "      <th>4</th>\n",
       "      <td>16</td>\n",
       "      <td>89</td>\n",
       "      <td>36</td>\n",
       "      <td>51</td>\n",
       "      <td>109</td>\n",
       "      <td>52</td>\n",
       "      <td>6</td>\n",
       "      <td>118</td>\n",
       "      <td>57</td>\n",
       "      <td>17</td>\n",
       "      <td>129</td>\n",
       "      <td>137</td>\n",
       "      <td>206</td>\n",
       "      <td>125</td>\n",
       "      <td>80</td>\n",
       "      <td>2</td>\n",
       "      <td>14</td>\n",
       "      <td>181</td>\n",
       "      <td>185</td>\n",
       "    </tr>\n",
       "    <tr>\n",
       "      <th>5</th>\n",
       "      <td>130</td>\n",
       "      <td>100</td>\n",
       "      <td>46</td>\n",
       "      <td>104</td>\n",
       "      <td>184</td>\n",
       "      <td>60</td>\n",
       "      <td>9</td>\n",
       "      <td>197</td>\n",
       "      <td>34</td>\n",
       "      <td>23</td>\n",
       "      <td>147</td>\n",
       "      <td>222</td>\n",
       "      <td>578</td>\n",
       "      <td>198</td>\n",
       "      <td>73</td>\n",
       "      <td>13</td>\n",
       "      <td>13</td>\n",
       "      <td>189</td>\n",
       "      <td>197</td>\n",
       "    </tr>\n",
       "    <tr>\n",
       "      <th>6</th>\n",
       "      <td>627</td>\n",
       "      <td>88</td>\n",
       "      <td>44</td>\n",
       "      <td>71</td>\n",
       "      <td>165</td>\n",
       "      <td>70</td>\n",
       "      <td>7</td>\n",
       "      <td>144</td>\n",
       "      <td>46</td>\n",
       "      <td>19</td>\n",
       "      <td>141</td>\n",
       "      <td>167</td>\n",
       "      <td>312</td>\n",
       "      <td>172</td>\n",
       "      <td>71</td>\n",
       "      <td>4</td>\n",
       "      <td>4</td>\n",
       "      <td>188</td>\n",
       "      <td>193</td>\n",
       "    </tr>\n",
       "    <tr>\n",
       "      <th>7</th>\n",
       "      <td>597</td>\n",
       "      <td>88</td>\n",
       "      <td>42</td>\n",
       "      <td>66</td>\n",
       "      <td>133</td>\n",
       "      <td>57</td>\n",
       "      <td>6</td>\n",
       "      <td>123</td>\n",
       "      <td>54</td>\n",
       "      <td>17</td>\n",
       "      <td>144</td>\n",
       "      <td>147</td>\n",
       "      <td>227</td>\n",
       "      <td>160</td>\n",
       "      <td>66</td>\n",
       "      <td>8</td>\n",
       "      <td>4</td>\n",
       "      <td>193</td>\n",
       "      <td>198</td>\n",
       "    </tr>\n",
       "    <tr>\n",
       "      <th>8</th>\n",
       "      <td>268</td>\n",
       "      <td>86</td>\n",
       "      <td>39</td>\n",
       "      <td>60</td>\n",
       "      <td>140</td>\n",
       "      <td>60</td>\n",
       "      <td>7</td>\n",
       "      <td>119</td>\n",
       "      <td>55</td>\n",
       "      <td>17</td>\n",
       "      <td>134</td>\n",
       "      <td>140</td>\n",
       "      <td>212</td>\n",
       "      <td>141</td>\n",
       "      <td>61</td>\n",
       "      <td>7</td>\n",
       "      <td>8</td>\n",
       "      <td>200</td>\n",
       "      <td>207</td>\n",
       "    </tr>\n",
       "    <tr>\n",
       "      <th>9</th>\n",
       "      <td>64</td>\n",
       "      <td>93</td>\n",
       "      <td>45</td>\n",
       "      <td>86</td>\n",
       "      <td>201</td>\n",
       "      <td>69</td>\n",
       "      <td>7</td>\n",
       "      <td>184</td>\n",
       "      <td>35</td>\n",
       "      <td>22</td>\n",
       "      <td>145</td>\n",
       "      <td>203</td>\n",
       "      <td>523</td>\n",
       "      <td>183</td>\n",
       "      <td>72</td>\n",
       "      <td>0</td>\n",
       "      <td>4</td>\n",
       "      <td>194</td>\n",
       "      <td>197</td>\n",
       "    </tr>\n",
       "    <tr>\n",
       "      <th>10</th>\n",
       "      <td>273</td>\n",
       "      <td>96</td>\n",
       "      <td>45</td>\n",
       "      <td>80</td>\n",
       "      <td>162</td>\n",
       "      <td>63</td>\n",
       "      <td>9</td>\n",
       "      <td>146</td>\n",
       "      <td>46</td>\n",
       "      <td>19</td>\n",
       "      <td>148</td>\n",
       "      <td>161</td>\n",
       "      <td>316</td>\n",
       "      <td>161</td>\n",
       "      <td>64</td>\n",
       "      <td>5</td>\n",
       "      <td>10</td>\n",
       "      <td>199</td>\n",
       "      <td>207</td>\n",
       "    </tr>\n",
       "    <tr>\n",
       "      <th>11</th>\n",
       "      <td>35</td>\n",
       "      <td>100</td>\n",
       "      <td>46</td>\n",
       "      <td>90</td>\n",
       "      <td>172</td>\n",
       "      <td>67</td>\n",
       "      <td>9</td>\n",
       "      <td>157</td>\n",
       "      <td>43</td>\n",
       "      <td>20</td>\n",
       "      <td>150</td>\n",
       "      <td>170</td>\n",
       "      <td>363</td>\n",
       "      <td>184</td>\n",
       "      <td>67</td>\n",
       "      <td>17</td>\n",
       "      <td>7</td>\n",
       "      <td>192</td>\n",
       "      <td>200</td>\n",
       "    </tr>\n",
       "    <tr>\n",
       "      <th>12</th>\n",
       "      <td>805</td>\n",
       "      <td>81</td>\n",
       "      <td>43</td>\n",
       "      <td>68</td>\n",
       "      <td>148</td>\n",
       "      <td>64</td>\n",
       "      <td>7</td>\n",
       "      <td>150</td>\n",
       "      <td>45</td>\n",
       "      <td>19</td>\n",
       "      <td>144</td>\n",
       "      <td>175</td>\n",
       "      <td>330</td>\n",
       "      <td>171</td>\n",
       "      <td>80</td>\n",
       "      <td>1</td>\n",
       "      <td>2</td>\n",
       "      <td>182</td>\n",
       "      <td>185</td>\n",
       "    </tr>\n",
       "    <tr>\n",
       "      <th>13</th>\n",
       "      <td>646</td>\n",
       "      <td>90</td>\n",
       "      <td>38</td>\n",
       "      <td>79</td>\n",
       "      <td>185</td>\n",
       "      <td>69</td>\n",
       "      <td>6</td>\n",
       "      <td>160</td>\n",
       "      <td>40</td>\n",
       "      <td>20</td>\n",
       "      <td>130</td>\n",
       "      <td>178</td>\n",
       "      <td>393</td>\n",
       "      <td>133</td>\n",
       "      <td>66</td>\n",
       "      <td>2</td>\n",
       "      <td>14</td>\n",
       "      <td>198</td>\n",
       "      <td>205</td>\n",
       "    </tr>\n",
       "    <tr>\n",
       "      <th>14</th>\n",
       "      <td>63</td>\n",
       "      <td>83</td>\n",
       "      <td>42</td>\n",
       "      <td>66</td>\n",
       "      <td>156</td>\n",
       "      <td>67</td>\n",
       "      <td>7</td>\n",
       "      <td>150</td>\n",
       "      <td>45</td>\n",
       "      <td>19</td>\n",
       "      <td>144</td>\n",
       "      <td>174</td>\n",
       "      <td>333</td>\n",
       "      <td>159</td>\n",
       "      <td>78</td>\n",
       "      <td>4</td>\n",
       "      <td>2</td>\n",
       "      <td>182</td>\n",
       "      <td>188</td>\n",
       "    </tr>\n",
       "  </tbody>\n",
       "</table>\n",
       "</div>"
      ],
      "text/plain": [
       "     0    1   2    3    4   5   6    7   8   9    10   11   12   13  14  15  \\\n",
       "0   667  110  53  104  223  66  10  211  32  24  164  223  659  210  67   5   \n",
       "1   569   97  35   66  151  64   8  128  52  18  129  148  246  112  66   6   \n",
       "2    95   97  50  108  211  65  10  214  31  24  156  232  683  218  72   7   \n",
       "3   715  100  52  109  225  68  10  222  30  25  165  241  731  207  73   7   \n",
       "4    16   89  36   51  109  52   6  118  57  17  129  137  206  125  80   2   \n",
       "5   130  100  46  104  184  60   9  197  34  23  147  222  578  198  73  13   \n",
       "6   627   88  44   71  165  70   7  144  46  19  141  167  312  172  71   4   \n",
       "7   597   88  42   66  133  57   6  123  54  17  144  147  227  160  66   8   \n",
       "8   268   86  39   60  140  60   7  119  55  17  134  140  212  141  61   7   \n",
       "9    64   93  45   86  201  69   7  184  35  22  145  203  523  183  72   0   \n",
       "10  273   96  45   80  162  63   9  146  46  19  148  161  316  161  64   5   \n",
       "11   35  100  46   90  172  67   9  157  43  20  150  170  363  184  67  17   \n",
       "12  805   81  43   68  148  64   7  150  45  19  144  175  330  171  80   1   \n",
       "13  646   90  38   79  185  69   6  160  40  20  130  178  393  133  66   2   \n",
       "14   63   83  42   66  156  67   7  150  45  19  144  174  333  159  78   4   \n",
       "\n",
       "    16   17   18  \n",
       "0   16  190  203  \n",
       "1    2  195  200  \n",
       "2   29  188  197  \n",
       "3   28  188  199  \n",
       "4   14  181  185  \n",
       "5   13  189  197  \n",
       "6    4  188  193  \n",
       "7    4  193  198  \n",
       "8    8  200  207  \n",
       "9    4  194  197  \n",
       "10  10  199  207  \n",
       "11   7  192  200  \n",
       "12   2  182  185  \n",
       "13  14  198  205  \n",
       "14   2  182  188  "
      ]
     },
     "execution_count": 3,
     "metadata": {},
     "output_type": "execute_result"
    }
   ],
   "source": [
    "X_train_pd = pd.DataFrame(X_train)\n",
    "\n",
    "# First 15 rows of our dataset.\n",
    "X_train_pd.head(15)"
   ]
  },
  {
   "cell_type": "markdown",
   "metadata": {
    "nbgrader": {
     "grade": false,
     "grade_id": "cell-98e7d91d77d65fcf",
     "locked": true,
     "schema_version": 2,
     "solution": false
    }
   },
   "source": [
    "Methods `describe` and `info` deliver some useful information."
   ]
  },
  {
   "cell_type": "code",
   "execution_count": 4,
   "metadata": {},
   "outputs": [
    {
     "data": {
      "text/html": [
       "<div>\n",
       "<style scoped>\n",
       "    .dataframe tbody tr th:only-of-type {\n",
       "        vertical-align: middle;\n",
       "    }\n",
       "\n",
       "    .dataframe tbody tr th {\n",
       "        vertical-align: top;\n",
       "    }\n",
       "\n",
       "    .dataframe thead th {\n",
       "        text-align: right;\n",
       "    }\n",
       "</style>\n",
       "<table border=\"1\" class=\"dataframe\">\n",
       "  <thead>\n",
       "    <tr style=\"text-align: right;\">\n",
       "      <th></th>\n",
       "      <th>0</th>\n",
       "      <th>1</th>\n",
       "      <th>2</th>\n",
       "      <th>3</th>\n",
       "      <th>4</th>\n",
       "      <th>5</th>\n",
       "      <th>6</th>\n",
       "      <th>7</th>\n",
       "      <th>8</th>\n",
       "      <th>9</th>\n",
       "      <th>10</th>\n",
       "      <th>11</th>\n",
       "      <th>12</th>\n",
       "      <th>13</th>\n",
       "      <th>14</th>\n",
       "      <th>15</th>\n",
       "      <th>16</th>\n",
       "      <th>17</th>\n",
       "      <th>18</th>\n",
       "    </tr>\n",
       "  </thead>\n",
       "  <tbody>\n",
       "    <tr>\n",
       "      <th>count</th>\n",
       "      <td>549.000000</td>\n",
       "      <td>549.000000</td>\n",
       "      <td>549.000000</td>\n",
       "      <td>549.000000</td>\n",
       "      <td>549.000000</td>\n",
       "      <td>549.000000</td>\n",
       "      <td>549.000000</td>\n",
       "      <td>549.000000</td>\n",
       "      <td>549.000000</td>\n",
       "      <td>549.000000</td>\n",
       "      <td>549.000000</td>\n",
       "      <td>549.000000</td>\n",
       "      <td>549.000000</td>\n",
       "      <td>549.000000</td>\n",
       "      <td>549.000000</td>\n",
       "      <td>549.000000</td>\n",
       "      <td>549.000000</td>\n",
       "      <td>549.000000</td>\n",
       "      <td>549.000000</td>\n",
       "    </tr>\n",
       "    <tr>\n",
       "      <th>mean</th>\n",
       "      <td>436.511840</td>\n",
       "      <td>93.899818</td>\n",
       "      <td>44.958106</td>\n",
       "      <td>82.151184</td>\n",
       "      <td>168.619308</td>\n",
       "      <td>61.520947</td>\n",
       "      <td>8.550091</td>\n",
       "      <td>169.202186</td>\n",
       "      <td>40.943534</td>\n",
       "      <td>20.608379</td>\n",
       "      <td>148.143898</td>\n",
       "      <td>189.123862</td>\n",
       "      <td>442.786885</td>\n",
       "      <td>175.138434</td>\n",
       "      <td>72.535519</td>\n",
       "      <td>6.342441</td>\n",
       "      <td>12.743169</td>\n",
       "      <td>189.012750</td>\n",
       "      <td>195.644809</td>\n",
       "    </tr>\n",
       "    <tr>\n",
       "      <th>std</th>\n",
       "      <td>246.821011</td>\n",
       "      <td>8.421329</td>\n",
       "      <td>6.211603</td>\n",
       "      <td>15.993866</td>\n",
       "      <td>33.879764</td>\n",
       "      <td>8.319028</td>\n",
       "      <td>4.803791</td>\n",
       "      <td>34.422306</td>\n",
       "      <td>8.015183</td>\n",
       "      <td>2.696578</td>\n",
       "      <td>14.557063</td>\n",
       "      <td>32.579929</td>\n",
       "      <td>183.416373</td>\n",
       "      <td>33.077698</td>\n",
       "      <td>7.535870</td>\n",
       "      <td>4.938236</td>\n",
       "      <td>9.023367</td>\n",
       "      <td>6.218778</td>\n",
       "      <td>7.597750</td>\n",
       "    </tr>\n",
       "    <tr>\n",
       "      <th>min</th>\n",
       "      <td>3.000000</td>\n",
       "      <td>73.000000</td>\n",
       "      <td>33.000000</td>\n",
       "      <td>40.000000</td>\n",
       "      <td>104.000000</td>\n",
       "      <td>47.000000</td>\n",
       "      <td>2.000000</td>\n",
       "      <td>112.000000</td>\n",
       "      <td>26.000000</td>\n",
       "      <td>17.000000</td>\n",
       "      <td>118.000000</td>\n",
       "      <td>130.000000</td>\n",
       "      <td>184.000000</td>\n",
       "      <td>109.000000</td>\n",
       "      <td>59.000000</td>\n",
       "      <td>0.000000</td>\n",
       "      <td>0.000000</td>\n",
       "      <td>176.000000</td>\n",
       "      <td>181.000000</td>\n",
       "    </tr>\n",
       "    <tr>\n",
       "      <th>25%</th>\n",
       "      <td>223.000000</td>\n",
       "      <td>88.000000</td>\n",
       "      <td>40.000000</td>\n",
       "      <td>70.000000</td>\n",
       "      <td>141.000000</td>\n",
       "      <td>56.000000</td>\n",
       "      <td>6.000000</td>\n",
       "      <td>146.000000</td>\n",
       "      <td>33.000000</td>\n",
       "      <td>19.000000</td>\n",
       "      <td>137.000000</td>\n",
       "      <td>167.000000</td>\n",
       "      <td>316.000000</td>\n",
       "      <td>150.000000</td>\n",
       "      <td>67.000000</td>\n",
       "      <td>2.000000</td>\n",
       "      <td>6.000000</td>\n",
       "      <td>184.000000</td>\n",
       "      <td>190.000000</td>\n",
       "    </tr>\n",
       "    <tr>\n",
       "      <th>50%</th>\n",
       "      <td>453.000000</td>\n",
       "      <td>93.000000</td>\n",
       "      <td>44.000000</td>\n",
       "      <td>79.000000</td>\n",
       "      <td>166.000000</td>\n",
       "      <td>61.000000</td>\n",
       "      <td>8.000000</td>\n",
       "      <td>157.000000</td>\n",
       "      <td>43.000000</td>\n",
       "      <td>20.000000</td>\n",
       "      <td>146.000000</td>\n",
       "      <td>179.000000</td>\n",
       "      <td>365.000000</td>\n",
       "      <td>173.000000</td>\n",
       "      <td>71.000000</td>\n",
       "      <td>6.000000</td>\n",
       "      <td>11.000000</td>\n",
       "      <td>188.000000</td>\n",
       "      <td>197.000000</td>\n",
       "    </tr>\n",
       "    <tr>\n",
       "      <th>75%</th>\n",
       "      <td>646.000000</td>\n",
       "      <td>100.000000</td>\n",
       "      <td>50.000000</td>\n",
       "      <td>98.000000</td>\n",
       "      <td>194.000000</td>\n",
       "      <td>65.000000</td>\n",
       "      <td>10.000000</td>\n",
       "      <td>200.000000</td>\n",
       "      <td>46.000000</td>\n",
       "      <td>23.000000</td>\n",
       "      <td>160.000000</td>\n",
       "      <td>217.000000</td>\n",
       "      <td>600.000000</td>\n",
       "      <td>199.000000</td>\n",
       "      <td>76.000000</td>\n",
       "      <td>10.000000</td>\n",
       "      <td>19.000000</td>\n",
       "      <td>193.000000</td>\n",
       "      <td>201.000000</td>\n",
       "    </tr>\n",
       "    <tr>\n",
       "      <th>max</th>\n",
       "      <td>845.000000</td>\n",
       "      <td>119.000000</td>\n",
       "      <td>58.000000</td>\n",
       "      <td>112.000000</td>\n",
       "      <td>333.000000</td>\n",
       "      <td>138.000000</td>\n",
       "      <td>55.000000</td>\n",
       "      <td>265.000000</td>\n",
       "      <td>61.000000</td>\n",
       "      <td>29.000000</td>\n",
       "      <td>188.000000</td>\n",
       "      <td>320.000000</td>\n",
       "      <td>1018.000000</td>\n",
       "      <td>268.000000</td>\n",
       "      <td>135.000000</td>\n",
       "      <td>22.000000</td>\n",
       "      <td>40.000000</td>\n",
       "      <td>204.000000</td>\n",
       "      <td>211.000000</td>\n",
       "    </tr>\n",
       "  </tbody>\n",
       "</table>\n",
       "</div>"
      ],
      "text/plain": [
       "               0           1           2           3           4           5   \\\n",
       "count  549.000000  549.000000  549.000000  549.000000  549.000000  549.000000   \n",
       "mean   436.511840   93.899818   44.958106   82.151184  168.619308   61.520947   \n",
       "std    246.821011    8.421329    6.211603   15.993866   33.879764    8.319028   \n",
       "min      3.000000   73.000000   33.000000   40.000000  104.000000   47.000000   \n",
       "25%    223.000000   88.000000   40.000000   70.000000  141.000000   56.000000   \n",
       "50%    453.000000   93.000000   44.000000   79.000000  166.000000   61.000000   \n",
       "75%    646.000000  100.000000   50.000000   98.000000  194.000000   65.000000   \n",
       "max    845.000000  119.000000   58.000000  112.000000  333.000000  138.000000   \n",
       "\n",
       "               6           7           8           9           10          11  \\\n",
       "count  549.000000  549.000000  549.000000  549.000000  549.000000  549.000000   \n",
       "mean     8.550091  169.202186   40.943534   20.608379  148.143898  189.123862   \n",
       "std      4.803791   34.422306    8.015183    2.696578   14.557063   32.579929   \n",
       "min      2.000000  112.000000   26.000000   17.000000  118.000000  130.000000   \n",
       "25%      6.000000  146.000000   33.000000   19.000000  137.000000  167.000000   \n",
       "50%      8.000000  157.000000   43.000000   20.000000  146.000000  179.000000   \n",
       "75%     10.000000  200.000000   46.000000   23.000000  160.000000  217.000000   \n",
       "max     55.000000  265.000000   61.000000   29.000000  188.000000  320.000000   \n",
       "\n",
       "                12          13          14          15          16  \\\n",
       "count   549.000000  549.000000  549.000000  549.000000  549.000000   \n",
       "mean    442.786885  175.138434   72.535519    6.342441   12.743169   \n",
       "std     183.416373   33.077698    7.535870    4.938236    9.023367   \n",
       "min     184.000000  109.000000   59.000000    0.000000    0.000000   \n",
       "25%     316.000000  150.000000   67.000000    2.000000    6.000000   \n",
       "50%     365.000000  173.000000   71.000000    6.000000   11.000000   \n",
       "75%     600.000000  199.000000   76.000000   10.000000   19.000000   \n",
       "max    1018.000000  268.000000  135.000000   22.000000   40.000000   \n",
       "\n",
       "               17          18  \n",
       "count  549.000000  549.000000  \n",
       "mean   189.012750  195.644809  \n",
       "std      6.218778    7.597750  \n",
       "min    176.000000  181.000000  \n",
       "25%    184.000000  190.000000  \n",
       "50%    188.000000  197.000000  \n",
       "75%    193.000000  201.000000  \n",
       "max    204.000000  211.000000  "
      ]
     },
     "execution_count": 4,
     "metadata": {},
     "output_type": "execute_result"
    }
   ],
   "source": [
    "X_train_pd.describe()"
   ]
  },
  {
   "cell_type": "code",
   "execution_count": 5,
   "metadata": {},
   "outputs": [
    {
     "name": "stdout",
     "output_type": "stream",
     "text": [
      "<class 'pandas.core.frame.DataFrame'>\n",
      "RangeIndex: 549 entries, 0 to 548\n",
      "Data columns (total 19 columns):\n",
      " #   Column  Non-Null Count  Dtype\n",
      "---  ------  --------------  -----\n",
      " 0   0       549 non-null    int64\n",
      " 1   1       549 non-null    int64\n",
      " 2   2       549 non-null    int64\n",
      " 3   3       549 non-null    int64\n",
      " 4   4       549 non-null    int64\n",
      " 5   5       549 non-null    int64\n",
      " 6   6       549 non-null    int64\n",
      " 7   7       549 non-null    int64\n",
      " 8   8       549 non-null    int64\n",
      " 9   9       549 non-null    int64\n",
      " 10  10      549 non-null    int64\n",
      " 11  11      549 non-null    int64\n",
      " 12  12      549 non-null    int64\n",
      " 13  13      549 non-null    int64\n",
      " 14  14      549 non-null    int64\n",
      " 15  15      549 non-null    int64\n",
      " 16  16      549 non-null    int64\n",
      " 17  17      549 non-null    int64\n",
      " 18  18      549 non-null    int64\n",
      "dtypes: int64(19)\n",
      "memory usage: 81.6 KB\n"
     ]
    }
   ],
   "source": [
    "X_train_pd.info()"
   ]
  },
  {
   "cell_type": "markdown",
   "metadata": {
    "nbgrader": {
     "grade": false,
     "grade_id": "cell-be844269be69c387",
     "locked": true,
     "schema_version": 2,
     "solution": false
    }
   },
   "source": [
    "### 2. Machine Learning pipeline\n",
    "Here you are supposed to perform the desired transformations. Please, explain your results briefly after each task."
   ]
  },
  {
   "cell_type": "markdown",
   "metadata": {},
   "source": [
    "#### 2.0. Data preprocessing\n",
    "* Make some transformations of the dataset (if necessary). Briefly explain the transformations"
   ]
  },
  {
   "cell_type": "markdown",
   "metadata": {},
   "source": [
    "---\n",
    "\n",
    "#### My code"
   ]
  },
  {
   "cell_type": "markdown",
   "metadata": {},
   "source": [
    "Первым делом попробую понять есть ли в данных категориальные фичи. Для этого посчитаю количество уникальных значений в каждой колонке."
   ]
  },
  {
   "cell_type": "code",
   "execution_count": 6,
   "metadata": {
    "nbgrader": {
     "grade": true,
     "grade_id": "cell-a1514aa189a49fca",
     "locked": false,
     "points": 15,
     "schema_version": 2,
     "solution": true
    }
   },
   "outputs": [
    {
     "name": "stdout",
     "output_type": "stream",
     "text": [
      "Unique values in 0: 549 (100%)\n",
      "Unique values in 1: 43 (8%)\n",
      "Unique values in 2: 26 (5%)\n",
      "Unique values in 3: 60 (11%)\n",
      "Unique values in 4: 128 (23%)\n",
      "Unique values in 5: 36 (7%)\n",
      "Unique values in 6: 20 (4%)\n",
      "Unique values in 7: 127 (23%)\n",
      "Unique values in 8: 34 (6%)\n",
      "Unique values in 9: 13 (2%)\n",
      "Unique values in 10: 64 (12%)\n",
      "Unique values in 11: 120 (22%)\n",
      "Unique values in 12: 326 (59%)\n",
      "Unique values in 13: 136 (25%)\n",
      "Unique values in 14: 36 (7%)\n",
      "Unique values in 15: 23 (4%)\n",
      "Unique values in 16: 40 (7%)\n",
      "Unique values in 17: 29 (5%)\n",
      "Unique values in 18: 31 (6%)\n"
     ]
    }
   ],
   "source": [
    "for column in X_train_pd.columns:\n",
    "    unique_count = len(X_train_pd[column].unique())\n",
    "    print('Unique values in {}: {} ({:0.0f}%)'.format(column, unique_count, unique_count / X_train_pd.shape[0] * 100))"
   ]
  },
  {
   "cell_type": "markdown",
   "metadata": {},
   "source": [
    "Т.к. о природе данных ничего не известно сложно делать однозначный вывод. Учитывая, что все данные - целые числа, можно было бы предположить, что фичи с наименьшим количеством уникальных значений являются категориальными с большим числом различных классов."
   ]
  },
  {
   "cell_type": "code",
   "execution_count": 7,
   "metadata": {},
   "outputs": [],
   "source": [
    "# Lable Encoding\n",
    "\n",
    "from sklearn.preprocessing import LabelEncoder\n",
    "\n",
    "label_encoder = LabelEncoder()\n",
    "label_encoder.fit(target)\n",
    "y_train = label_encoder.transform(y_train)\n",
    "y_test = label_encoder.transform(y_test)"
   ]
  },
  {
   "cell_type": "markdown",
   "metadata": {},
   "source": [
    "Далее, стандартное шкалирование, т.к. на данный момент все величины имеют разный разброс и среднее. Это может плохо сказаться на качестве линейной модели."
   ]
  },
  {
   "cell_type": "code",
   "execution_count": 8,
   "metadata": {},
   "outputs": [],
   "source": [
    "from sklearn.preprocessing import StandardScaler\n",
    "\n",
    "standart_scaler = StandardScaler()\n",
    "X_train_standart_scaled = standart_scaler.fit_transform(X_train)\n",
    "X_test_standart_scaled = standart_scaler.transform(X_test)"
   ]
  },
  {
   "cell_type": "code",
   "execution_count": 9,
   "metadata": {},
   "outputs": [
    {
     "name": "stdout",
     "output_type": "stream",
     "text": [
      "Minmax scaled train shape: (549, 19)\n",
      "Minmax scaled test shape: (297, 19)\n"
     ]
    }
   ],
   "source": [
    "from sklearn.preprocessing import MinMaxScaler\n",
    "\n",
    "minmax_scaler = MinMaxScaler()\n",
    "minmax_scaler.fit(data)\n",
    "X_train_minmax_scaled = minmax_scaler.transform(X_train)\n",
    "X_test_minmax_scaled = minmax_scaler.transform(X_test)\n",
    "print(f'Minmax scaled train shape: {X_train_minmax_scaled.shape}')\n",
    "print(f'Minmax scaled test shape: {X_test_minmax_scaled.shape}')"
   ]
  },
  {
   "cell_type": "markdown",
   "metadata": {},
   "source": [
    "#### End of my code\n",
    "\n",
    "---"
   ]
  },
  {
   "cell_type": "markdown",
   "metadata": {},
   "source": [
    "#### 2.1. Basic logistic regression\n",
    "* Find optimal hyperparameters for logistic regression with cross-validation on the `train` data (small grid/random search is enough, no need to find the *best* parameters).\n",
    "\n",
    "* Estimate the model quality with `f1` and `accuracy` scores.\n",
    "* Plot a ROC-curve for the trained model. For the multiclass case you might use `scikitplot` library (e.g. `scikitplot.metrics.plot_roc(test_labels, predicted_proba)`).\n",
    "\n",
    "*Note: please, use the following hyperparameters for logistic regression: `multi_class='multinomial'`, `solver='saga'` `tol=1e-3` and ` max_iter=500`.*"
   ]
  },
  {
   "cell_type": "markdown",
   "metadata": {},
   "source": [
    "---\n",
    "\n",
    "My code"
   ]
  },
  {
   "cell_type": "code",
   "execution_count": 34,
   "metadata": {
    "nbgrader": {
     "grade": true,
     "grade_id": "cell-1dd5ad5d0845cbbb",
     "locked": false,
     "points": 5,
     "schema_version": 2,
     "solution": true
    }
   },
   "outputs": [],
   "source": [
    "from sklearn.linear_model import LogisticRegression\n",
    "from sklearn.metrics import f1_score, accuracy_score\n",
    "from sklearn.model_selection import StratifiedKFold\n",
    "from sklearn.base import BaseEstimator\n",
    "\n",
    "def one_vs_all_score(y_pred: list, y_true: list) -> tuple:\n",
    "    '''Mean f1 score for multiclass classification based on one-vs-all strategy'''\n",
    "    labels = list(range(len(label_encoder.classes_)))\n",
    "    f1_scores = [ f1_score(y_pred == i, y_true == i) for i in labels ]\n",
    "    accuracy_scores = [ accuracy_score(y_pred == i, y_true == i) for i in labels ]\n",
    "    current_f1_score = np.mean(f1_scores)\n",
    "    current_accuracy_score = np.mean(accuracy_scores)\n",
    "    return current_f1_score, current_accuracy_score\n",
    "\n",
    "def cross_val_param_tune(model_class: BaseEstimator, grid_params: list, model_params: dict, grid_param_name: str,  \\\n",
    "                         X_train: np.array, X_test: np.array, verbose: bool = True) -> float:\n",
    "    '''Crossval best model param search'''\n",
    "    model_f1_scores = []\n",
    "    model_accuracy_scores = []\n",
    "    skf = StratifiedKFold(\n",
    "        n_splits=5,\n",
    "        shuffle=True,\n",
    "        random_state=42,\n",
    "    )\n",
    "\n",
    "    for l1_ratio in grid_params:\n",
    "        model_params[grid_param_name] = l1_ratio\n",
    "        model = model_class(**model_params)\n",
    "        k_fold_f1_scores = []\n",
    "        k_fold_accuracy_scores = []\n",
    "\n",
    "        for train_ids, test_ids in skf.split(X_train, y_train):\n",
    "            k_X_train, k_X_test = X_train[train_ids], X_train[test_ids]\n",
    "            k_y_train, k_y_test = y_train[train_ids], y_train[test_ids]\n",
    "            model.fit(k_X_train, k_y_train)\n",
    "            k_y_pred = model.predict(k_X_test)\n",
    "            mean_f1, mean_accuracy = one_vs_all_score(k_y_pred, k_y_test)\n",
    "            k_fold_f1_scores.append(mean_f1)\n",
    "            k_fold_accuracy_scores.append(mean_accuracy)\n",
    "\n",
    "        model_f1_scores.append(np.mean(k_fold_f1_scores))\n",
    "        model_accuracy_scores.append(np.mean(k_fold_accuracy_scores))\n",
    "        \n",
    "    if verbose:\n",
    "        for l1_ratio, mean_f1, mean_accuracy in zip(grid_params, model_f1_scores, model_accuracy_scores):\n",
    "            print(f'{grid_param_name}: {l1_ratio}')\n",
    "            print('\\tF1 score: {:0.5}'.format(mean_f1))\n",
    "            print('\\tAccuracy score: {:0.5}'.format(mean_accuracy))\n",
    "\n",
    "    best_f1_ids = np.argmax(model_f1_scores)\n",
    "    best_accuracy_ids = np.argmax(model_accuracy_scores)\n",
    "    \n",
    "    if verbose:\n",
    "        print(f'Best F1 index: {best_f1_ids}')\n",
    "        print(f'Best Accuracy index: {best_accuracy_ids}')\n",
    "\n",
    "    if best_f1_ids == best_accuracy_ids:\n",
    "        best_l1_ratio = grid_params[best_f1_ids]\n",
    "\n",
    "        if verbose:\n",
    "            print(f'Best {grid_param_name}: {best_l1_ratio}')\n",
    "        \n",
    "        return best_l1_ratio\n",
    "    else:\n",
    "        if verbose:\n",
    "            print(f'Best f1 score id {best_f1_ids}')\n",
    "            print(f'Best accuracy score id {best_accuracy_ids}')\n",
    "            \n",
    "        return None"
   ]
  },
  {
   "cell_type": "code",
   "execution_count": 35,
   "metadata": {},
   "outputs": [
    {
     "name": "stdout",
     "output_type": "stream",
     "text": [
      "l1_ratio: 0\n",
      "\tF1 score: 0.77359\n",
      "\tAccuracy score: 0.89071\n",
      "l1_ratio: 0.2\n",
      "\tF1 score: 0.77156\n",
      "\tAccuracy score: 0.8898\n",
      "l1_ratio: 0.5\n",
      "\tF1 score: 0.77582\n",
      "\tAccuracy score: 0.89162\n",
      "l1_ratio: 0.8\n",
      "\tF1 score: 0.77771\n",
      "\tAccuracy score: 0.89253\n",
      "l1_ratio: 1\n",
      "\tF1 score: 0.78579\n",
      "\tAccuracy score: 0.89617\n",
      "Best F1 index: 4\n",
      "Best Accuracy index: 4\n",
      "Best l1_ratio: 1\n"
     ]
    }
   ],
   "source": [
    "grid_params = [0, 0.2, 0.5, 0.8, 1]\n",
    "model_params = {\n",
    "        'multi_class': 'multinomial',\n",
    "        'solver': 'saga',\n",
    "        'tol': 1e-3,\n",
    "        'max_iter': 500,\n",
    "        'penalty': 'elasticnet',\n",
    "        'l1_ratio': None,\n",
    "        'verbose': False,\n",
    "        'random_state': 42,\n",
    "    }\n",
    "best_l1_ratio = cross_val_param_tune(LogisticRegression, grid_params, model_params, 'l1_ratio', X_train_standart_scaled, X_test_standart_scaled)"
   ]
  },
  {
   "cell_type": "code",
   "execution_count": 30,
   "metadata": {},
   "outputs": [
    {
     "name": "stdout",
     "output_type": "stream",
     "text": [
      "F1 score: 0.75007\n",
      "Accuracy score: 0.87037\n"
     ]
    }
   ],
   "source": [
    "best_logreg_params = {\n",
    "    'multi_class': 'multinomial',\n",
    "    'solver': 'saga',\n",
    "    'tol': 1e-3,\n",
    "    'max_iter': 500,\n",
    "    'penalty': 'elasticnet',\n",
    "    'l1_ratio': best_l1_ratio,\n",
    "    'verbose': False,\n",
    "    'random_state': 42,\n",
    "}\n",
    "\n",
    "logreg_model = LogisticRegression(**best_logreg_params)\n",
    "logreg_model.fit(X_train_standart_scaled, y_train)\n",
    "y_pred = logreg_model.predict(X_test_standart_scaled)\n",
    "mean_f1, mean_accuracy = one_vs_all_score(y_pred, y_test)\n",
    "\n",
    "print('F1 score: {:0.5}'.format(mean_f1))\n",
    "print('Accuracy score: {:0.5}'.format(mean_accuracy))"
   ]
  },
  {
   "cell_type": "code",
   "execution_count": 12,
   "metadata": {},
   "outputs": [],
   "source": [
    "# You might use this command to install scikit-plot. \n",
    "# Warning, if you a running locally, don't call pip from within jupyter, call it from terminal in the corresponding \n",
    "# virtual environment instead\n",
    "\n",
    "# ! pip install scikit-plot"
   ]
  },
  {
   "cell_type": "markdown",
   "metadata": {},
   "source": [
    "#### 2.2. PCA: explained variance plot\n",
    "* Apply the PCA to the train part of the data. Build the explaided variance plot. "
   ]
  },
  {
   "cell_type": "markdown",
   "metadata": {},
   "source": [
    "---\n",
    "\n",
    "#### My Code\n",
    "\n",
    "Выбирать количество признаков будем так, чтобы они объясняли 99% variance."
   ]
  },
  {
   "cell_type": "code",
   "execution_count": 13,
   "metadata": {},
   "outputs": [
    {
     "name": "stdout",
     "output_type": "stream",
     "text": [
      "Recomended number of components: 11\n"
     ]
    }
   ],
   "source": [
    "from sklearn.decomposition import PCA\n",
    "import matplotlib.pyplot as plt\n",
    "import matplotlib.pyplot as plt\n",
    "%matplotlib inline\n",
    "\n",
    "target_variance = 0.99\n",
    "\n",
    "pca_params = {\n",
    "    'random_state': 42,\n",
    "    'n_components': target_variance,\n",
    "}\n",
    "\n",
    "pca = PCA(**pca_params)\n",
    "pca.fit(X_train_minmax_scaled)\n",
    "print(f'Recomended number of components: {pca.n_components_}')"
   ]
  },
  {
   "cell_type": "markdown",
   "metadata": {},
   "source": [
    "Как видно из вывода выше, для этого необходимо сократить размерность до 11.\n",
    "Попробуем также сделать аналогичные выводы из графика, построенного на основе pca.explained_variance_ratio_:"
   ]
  },
  {
   "cell_type": "code",
   "execution_count": 15,
   "metadata": {
    "nbgrader": {
     "grade": true,
     "grade_id": "cell-c6c614740bce090e",
     "locked": false,
     "points": 10,
     "schema_version": 2,
     "solution": true
    }
   },
   "outputs": [
    {
     "data": {
      "image/png": "[encoded data removed]",
      "text/plain": [
       "<Figure size 864x432 with 1 Axes>"
      ]
     },
     "metadata": {
      "needs_background": "light"
     },
     "output_type": "display_data"
    }
   ],
   "source": [
    "target_variance = 0.99\n",
    "\n",
    "pca_params = {\n",
    "    'random_state': 42,\n",
    "}\n",
    "\n",
    "pca = PCA(**pca_params)\n",
    "pca.fit(X_train_minmax_scaled)\n",
    "\n",
    "plt.rcParams[\"figure.figsize\"] = (12,6)\n",
    "\n",
    "fig, ax = plt.subplots()\n",
    "xi = np.arange(1, X_train.shape[1] + 1, step=1)\n",
    "y = np.cumsum(pca.explained_variance_ratio_)\n",
    "\n",
    "plt.ylim(0.0,1.1)\n",
    "plt.plot(xi, y, marker='o', linestyle='--', color='b')\n",
    "\n",
    "plt.xlabel('Number of Components')\n",
    "plt.xticks(np.arange(0, X_train.shape[1] + 1, step=1))\n",
    "plt.ylabel('Cumulative variance (%)')\n",
    "plt.title('The number of components needed to explain variance')\n",
    "\n",
    "plt.axhline(y=target_variance, color='r', linestyle='-')\n",
    "plt.text(14, 0.85, f'{int(target_variance * 100)}% cut-off threshold', color = 'red', fontsize=16)\n",
    "\n",
    "ax.grid(axis='x')\n",
    "plt.show()"
   ]
  },
  {
   "cell_type": "markdown",
   "metadata": {},
   "source": [
    "Код для построения графика выше взят из статьи https://www.mikulskibartosz.name/pca-how-to-choose-the-number-of-components/\n",
    "\n",
    "Как видно из графика выше, для объяснения 99% variance, достаточно сократить размерность данных до 11.\n",
    "Этот результат следует как из графика выше, так и из результата автоматического подбора необходимого количества параметров в PCA (см.выше).\n",
    "\n",
    "Итак, оптимальное количество элементов: 11\n",
    "\n",
    "#### End of my code\n",
    "\n",
    "---"
   ]
  },
  {
   "cell_type": "markdown",
   "metadata": {
    "nbgrader": {
     "grade": false,
     "grade_id": "cell-0c1fe666f52fe53c",
     "locked": true,
     "schema_version": 2,
     "solution": false
    }
   },
   "source": [
    "#### 2.3. PCA trasformation\n",
    "* Select the appropriate number of components. Briefly explain your choice. Should you normalize the data?\n",
    "\n",
    "*Use `fit` and `transform` methods to transform the `train` and `test` parts.*"
   ]
  },
  {
   "cell_type": "markdown",
   "metadata": {},
   "source": [
    "---\n",
    "\n",
    "#### My code\n",
    "\n",
    "Для обучения PCA будем использовать данные преобразованные так, что диапазон всех признаков равен [0;1], т.к. именно такие данные необходимо передавать в PCA."
   ]
  },
  {
   "cell_type": "code",
   "execution_count": 16,
   "metadata": {
    "nbgrader": {
     "grade": true,
     "grade_id": "cell-96ab18d96473ef71",
     "locked": false,
     "points": 5,
     "schema_version": 2,
     "solution": true
    }
   },
   "outputs": [
    {
     "name": "stdout",
     "output_type": "stream",
     "text": [
      "PCA train shape: (549, 11)\n",
      "PCA test shape: (297, 11)\n"
     ]
    }
   ],
   "source": [
    "pca_params = {\n",
    "    'random_state': 42,\n",
    "    'n_components': 11,\n",
    "}\n",
    "\n",
    "pca = PCA(**pca_params)\n",
    "pca_X_train = pca.fit_transform(X_train_minmax_scaled)\n",
    "pca_X_test = pca.transform(X_test_minmax_scaled)\n",
    "print(f'PCA train shape: {pca_X_train.shape}')\n",
    "print(f'PCA test shape: {pca_X_test.shape}')"
   ]
  },
  {
   "cell_type": "markdown",
   "metadata": {},
   "source": [
    "**Note: From this point `sklearn` [Pipeline](https://scikit-learn.org/stable/modules/compose.html) might be useful to perform transformations on the data. Refer to the [docs](https://scikit-learn.org/stable/modules/generated/sklearn.pipeline.Pipeline.html) for more information.**"
   ]
  },
  {
   "cell_type": "markdown",
   "metadata": {
    "nbgrader": {
     "grade": false,
     "grade_id": "cell-d28b58a35c94e988",
     "locked": true,
     "schema_version": 2,
     "solution": false
    }
   },
   "source": [
    "#### 2.4. Logistic regression on PCA-preprocessed data.\n",
    "* Find optimal hyperparameters for logistic regression with cross-validation on the transformed by PCA `train` data.\n",
    "\n",
    "* Estimate the model quality with `f1` and `accuracy` scores.\n",
    "* Plot a ROC-curve for the trained model. For the multiclass case you might use `scikitplot` library (e.g. `scikitplot.metrics.plot_roc(test_labels, predicted_proba)`).\n",
    "\n",
    "*Note: please, use the following hyperparameters for logistic regression: `multi_class='multinomial'`, `solver='saga'` and `tol=1e-3`*"
   ]
  },
  {
   "cell_type": "markdown",
   "metadata": {
    "nbgrader": {
     "grade": true,
     "grade_id": "cell-12d53ea45258fa82",
     "locked": false,
     "points": 5,
     "schema_version": 2,
     "solution": true
    }
   },
   "source": [
    "---\n",
    "\n",
    "#### My code"
   ]
  },
  {
   "cell_type": "code",
   "execution_count": 17,
   "metadata": {},
   "outputs": [],
   "source": [
    "from sklearn.pipeline import Pipeline\n",
    "from sklearn.preprocessing import StandardScaler, MinMaxScaler\n",
    "\n",
    "def create_pipe_with_logreg_param(**params: float) -> Pipeline:\n",
    "    '''Create Pipeline with LogReg for given l1_ratio'''\n",
    "    logreg_pipe = Pipeline(\n",
    "        steps=[\n",
    "            (\n",
    "                'Minmax_scaler',\n",
    "                MinMaxScaler(),\n",
    "            ),\n",
    "            (\n",
    "                'PCA',\n",
    "                PCA(\n",
    "                    n_components=11,\n",
    "                    random_state=42,\n",
    "                ),\n",
    "            ),\n",
    "            (\n",
    "                'StandartScaler',\n",
    "                StandardScaler(),\n",
    "            ),\n",
    "            (\n",
    "                'LogReg',\n",
    "                LogisticRegression(**params),\n",
    "            ),\n",
    "        ],\n",
    "        verbose=False,\n",
    "    )\n",
    "    \n",
    "    return logreg_pipe"
   ]
  },
  {
   "cell_type": "code",
   "execution_count": 36,
   "metadata": {},
   "outputs": [
    {
     "name": "stdout",
     "output_type": "stream",
     "text": [
      "l1_ratio: 0\n",
      "\tF1 score: 0.73018\n",
      "\tAccuracy score: 0.86977\n",
      "l1_ratio: 0.2\n",
      "\tF1 score: 0.72894\n",
      "\tAccuracy score: 0.86887\n",
      "l1_ratio: 0.5\n",
      "\tF1 score: 0.72894\n",
      "\tAccuracy score: 0.86887\n",
      "l1_ratio: 0.8\n",
      "\tF1 score: 0.72798\n",
      "\tAccuracy score: 0.86796\n",
      "l1_ratio: 1\n",
      "\tF1 score: 0.72818\n",
      "\tAccuracy score: 0.86795\n",
      "Best F1 index: 0\n",
      "Best Accuracy index: 0\n",
      "Best l1_ratio: 0\n"
     ]
    }
   ],
   "source": [
    "grid_params = [0, 0.2, 0.5, 0.8, 1]\n",
    "model_params = {\n",
    "    'multi_class': 'multinomial',\n",
    "    'solver': 'saga',\n",
    "    'tol': 1e-3,\n",
    "    'max_iter': 500,\n",
    "    'penalty': 'elasticnet',\n",
    "    'l1_ratio': None,\n",
    "    'verbose': False,\n",
    "    'random_state': 42,\n",
    "}\n",
    "best_l1_ratio = cross_val_param_tune(create_pipe_with_logreg_param, grid_params, model_params, 'l1_ratio', X_train, X_test)"
   ]
  },
  {
   "cell_type": "code",
   "execution_count": 37,
   "metadata": {},
   "outputs": [
    {
     "name": "stdout",
     "output_type": "stream",
     "text": [
      "F1 score: 0.75007\n",
      "Accuracy score: 0.84512\n"
     ]
    }
   ],
   "source": [
    "best_logreg_params = {\n",
    "    'multi_class': 'multinomial',\n",
    "    'solver': 'saga',\n",
    "    'tol': 1e-3,\n",
    "    'max_iter': 500,\n",
    "    'penalty': 'elasticnet',\n",
    "    'l1_ratio': best_l1_ratio,\n",
    "    'verbose': False,\n",
    "    'random_state': 42,\n",
    "}\n",
    "\n",
    "logreg_pipe = create_pipe_with_logreg_param(**best_logreg_params)\n",
    "logreg_pipe.fit(X_train, y_train)\n",
    "y_pred = logreg_pipe.predict(X_test)\n",
    "y_pred_proba = logreg_pipe.predict_proba(X_test)\n",
    "mena_f1, mean_accuracy = one_vs_all_score(y_pred, y_test)\n",
    "\n",
    "print('F1 score: {:0.5}'.format(mean_f1))\n",
    "print('Accuracy score: {:0.5}'.format(mean_accuracy))"
   ]
  },
  {
   "cell_type": "code",
   "execution_count": 38,
   "metadata": {},
   "outputs": [
    {
     "data": {
      "image/png": "[encoded data removed]",
      "text/plain": [
       "<Figure size 864x432 with 1 Axes>"
      ]
     },
     "metadata": {
      "needs_background": "light"
     },
     "output_type": "display_data"
    }
   ],
   "source": [
    "from scikitplot.metrics import plot_roc\n",
    "\n",
    "plot_roc(y_test, y_pred_proba)\n",
    "plt.show()"
   ]
  },
  {
   "cell_type": "markdown",
   "metadata": {},
   "source": [
    "#### End of my code\n",
    "\n",
    "---"
   ]
  },
  {
   "cell_type": "markdown",
   "metadata": {
    "nbgrader": {
     "grade": false,
     "grade_id": "cell-4fbf16c64076e139",
     "locked": true,
     "schema_version": 2,
     "solution": false
    }
   },
   "source": [
    "#### 2.5. Decision tree\n",
    "* Now train a desicion tree on the same data. Find optimal tree depth (`max_depth`) using cross-validation.\n",
    "\n",
    "* Measure the model quality using the same metrics you used above."
   ]
  },
  {
   "cell_type": "markdown",
   "metadata": {},
   "source": [
    "---\n",
    "\n",
    "#### My code"
   ]
  },
  {
   "cell_type": "code",
   "execution_count": 39,
   "metadata": {
    "nbgrader": {
     "grade": true,
     "grade_id": "cell-748ed20b51c67fab",
     "locked": false,
     "points": 15,
     "schema_version": 2,
     "solution": true
    }
   },
   "outputs": [
    {
     "name": "stdout",
     "output_type": "stream",
     "text": [
      "max_depth: 1\n",
      "\tF1 score: 0.28348\n",
      "\tAccuracy score: 0.71036\n",
      "max_depth: 5\n",
      "\tF1 score: 0.73065\n",
      "\tAccuracy score: 0.8707\n",
      "max_depth: 10\n",
      "\tF1 score: 0.70442\n",
      "\tAccuracy score: 0.8552\n",
      "max_depth: 15\n",
      "\tF1 score: 0.69459\n",
      "\tAccuracy score: 0.85064\n",
      "max_depth: None\n",
      "\tF1 score: 0.69459\n",
      "\tAccuracy score: 0.85064\n",
      "Best F1 index: 1\n",
      "Best Accuracy index: 1\n",
      "Best max_depth: 5\n"
     ]
    }
   ],
   "source": [
    "from sklearn.tree import DecisionTreeClassifier\n",
    "\n",
    "tree_grid_params = [1, 5, 10, 15, None]\n",
    "tree_params = {\n",
    "    'random_state': 42,\n",
    "}\n",
    "best_depth = cross_val_param_tune(DecisionTreeClassifier, tree_grid_params, tree_params, 'max_depth', X_train, X_test)"
   ]
  },
  {
   "cell_type": "code",
   "execution_count": 43,
   "metadata": {},
   "outputs": [
    {
     "name": "stdout",
     "output_type": "stream",
     "text": [
      "F1 score on test: 0.66764\n",
      "Accuracy score on test: 0.82997\n"
     ]
    }
   ],
   "source": [
    "tree_params = {\n",
    "    'random_state': 42,\n",
    "    'max_depth': best_depth,\n",
    "}\n",
    "tree_model = DecisionTreeClassifier(**tree_params)\n",
    "tree_model.fit(X_train, y_train)\n",
    "tree_y_pred = tree_model.predict(X_test)\n",
    "mean_f1, mean_accuracy = one_vs_all_score(tree_y_pred, y_test)\n",
    "\n",
    "print('F1 score on test: {:0.5}'.format(mean_f1))\n",
    "print('Accuracy score on test: {:0.5}'.format(mean_accuracy))"
   ]
  },
  {
   "cell_type": "markdown",
   "metadata": {},
   "source": [
    "#### End of my code\n",
    "\n",
    "---"
   ]
  },
  {
   "cell_type": "markdown",
   "metadata": {
    "nbgrader": {
     "grade": false,
     "grade_id": "cell-9eadd4d8a03ae67a",
     "locked": true,
     "schema_version": 2,
     "solution": false
    }
   },
   "source": [
    "#### 2.6. Bagging.\n",
    "Here starts the ensembling part.\n",
    "\n",
    "First we will use the __Bagging__ approach. Build an ensemble of $N$ algorithms varying N from $N_{min}=2$ to $N_{max}=100$ (with step 5).\n",
    "\n",
    "We will build two ensembles: of logistic regressions and of decision trees.\n",
    "\n",
    "*Comment: each ensemble should be constructed from models of the same family, so logistic regressions should not be mixed up with decision trees.*\n",
    "\n",
    "\n",
    "*Hint 1: To build a __Bagging__ ensebmle varying the ensemble size efficiently you might generate $N_{max}$ subsets of `train` data (of the same size as the original dataset) using bootstrap procedure once. Then you train a new instance of logistic regression/decision tree with optimal hyperparameters you estimated before on each subset (so you train it from scratch). Finally, to get an ensemble of $N$ models you average the $N$ out of $N_{max}$ models predictions.*\n",
    "\n",
    "*Hint 2: sklearn might help you with this taks. Some appropriate function/class might be out there.*\n",
    "\n",
    "* Plot `f1` and `accuracy` scores plots w.r.t. the size of the ensemble.\n",
    "\n",
    "* Briefly analyse the plot. What is the optimal number of algorithms? Explain your answer.\n",
    "\n",
    "* How do you think, are the hyperparameters for the decision trees you found in 2.5 optimal for trees used in ensemble? "
   ]
  },
  {
   "cell_type": "markdown",
   "metadata": {},
   "source": [
    "---\n",
    "\n",
    "#### My code"
   ]
  },
  {
   "cell_type": "code",
   "execution_count": null,
   "metadata": {
    "nbgrader": {
     "grade": true,
     "grade_id": "cell-8fc95a2b206bdae1",
     "locked": false,
     "points": 35,
     "schema_version": 2,
     "solution": true
    }
   },
   "outputs": [],
   "source": [
    "N_MIN = 2\n",
    "N_MAX = 100\n",
    "STEP = 5\n",
    "\n"
   ]
  },
  {
   "cell_type": "markdown",
   "metadata": {},
   "source": [
    "#### End of my code\n",
    "\n",
    "---"
   ]
  },
  {
   "cell_type": "markdown",
   "metadata": {
    "nbgrader": {
     "grade": false,
     "grade_id": "cell-241b7691ab44cbfb",
     "locked": true,
     "schema_version": 2,
     "solution": false
    }
   },
   "source": [
    "#### 2.7. Random Forest\n",
    "Now we will work with the Random Forest (its `sklearn` implementation).\n",
    "\n",
    "* * Plot `f1` and `accuracy` scores plots w.r.t. the number of trees in Random Forest.\n",
    "\n",
    "* What is the optimal number of trees you've got? Is it different from the optimal number of logistic regressions/decision trees in 2.6? Explain the results briefly."
   ]
  },
  {
   "cell_type": "code",
   "execution_count": null,
   "metadata": {
    "nbgrader": {
     "grade": true,
     "grade_id": "cell-888755d0f3d91620",
     "locked": false,
     "points": 15,
     "schema_version": 2,
     "solution": true
    }
   },
   "outputs": [],
   "source": [
    "from sklearn.ensemble import RandomForestClassifier\n",
    "\n",
    "# YOUR CODE HERE"
   ]
  },
  {
   "cell_type": "markdown",
   "metadata": {
    "nbgrader": {
     "grade": false,
     "grade_id": "cell-99191c0852538d4d",
     "locked": true,
     "schema_version": 2,
     "solution": false
    }
   },
   "source": [
    "#### 2.8. Learning curve\n",
    "Your goal is to estimate, how does the model behaviour change with the increase of the `train` dataset size.\n",
    "\n",
    "* Split the training data into 10 equal (almost) parts. Then train the models from above (Logistic regression, Desicion Tree, Random Forest) with optimal hyperparameters you have selected on 1 part, 2 parts (combined, so the train size in increased by 2 times), 3 parts and so on.\n",
    "\n",
    "* Build a plot of `accuracy` and `f1` scores on `test` part, varying the `train` dataset size (so the axes will be score - dataset size.\n",
    "\n",
    "* Analyse the final plot. Can you make any conlusions using it? "
   ]
  },
  {
   "cell_type": "code",
   "execution_count": null,
   "metadata": {
    "nbgrader": {
     "grade": true,
     "grade_id": "cell-e39bc7e7dff61ff9",
     "locked": false,
     "points": 15,
     "schema_version": 2,
     "solution": true
    }
   },
   "outputs": [],
   "source": [
    "# YOUR CODE HERE"
   ]
  }
 ],
 "metadata": {
  "celltoolbar": "Create Assignment",
  "kernelspec": {
   "display_name": "Python 3 (ipykernel)",
   "language": "python",
   "name": "python3"
  },
  "language_info": {
   "codemirror_mode": {
    "name": "ipython",
    "version": 3
   },
   "file_extension": ".py",
   "mimetype": "text/x-python",
   "name": "python",
   "nbconvert_exporter": "python",
   "pygments_lexer": "ipython3",
   "version": "3.8.12"
  },
  "toc": {
   "base_numbering": 1,
   "nav_menu": {},
   "number_sections": false,
   "sideBar": true,
   "skip_h1_title": false,
   "title_cell": "Table of Contents",
   "title_sidebar": "Contents",
   "toc_cell": false,
   "toc_position": {},
   "toc_section_display": true,
   "toc_window_display": false
  }
 },
 "nbformat": 4,
 "nbformat_minor": 4
}

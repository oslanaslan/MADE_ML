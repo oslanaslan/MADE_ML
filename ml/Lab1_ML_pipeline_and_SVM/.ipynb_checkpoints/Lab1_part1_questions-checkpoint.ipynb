{
 "cells": [
  {
   "cell_type": "markdown",
   "metadata": {},
   "source": [
    "*Credits: materials from this notebook belong to YSDA [Practical DL](https://github.com/yandexdataschool/Practical_DL) course. Special thanks for making them available online.*"
   ]
  },
  {
   "cell_type": "markdown",
   "metadata": {},
   "source": [
    "# Lab assignment №1, part 1\n",
    "\n",
    "This lab assignment consists of several parts. You are supposed to make some transformations, train some models, estimate the quality of the models and explain your results.\n",
    "\n",
    "Several comments:\n",
    "* Don't hesitate to ask questions, it's a good practice.\n",
    "* No private/public sharing, please. The copied assignments will be graded with 0 points.\n",
    "* Blocks of this lab will be graded separately."
   ]
  },
  {
   "cell_type": "markdown",
   "metadata": {},
   "source": [
    "## 1. Matrix differentiation"
   ]
  },
  {
   "cell_type": "markdown",
   "metadata": {},
   "source": [
    "Since it easy to google every task please please please try to undestand what's going on. The \"just answer\" thing will be not counted, make sure to present derivation of your solution. It is absolutely OK if you found an answer on web then just exercise in $\\LaTeX$ copying it into here."
   ]
  },
  {
   "cell_type": "markdown",
   "metadata": {},
   "source": [
    "Useful links: \n",
    "[1](http://www.machinelearning.ru/wiki/images/2/2a/Matrix-Gauss.pdf)\n",
    "[2](http://www.atmos.washington.edu/~dennis/MatrixCalculus.pdf)"
   ]
  },
  {
   "cell_type": "markdown",
   "metadata": {},
   "source": [
    "## ex. 1"
   ]
  },
  {
   "cell_type": "markdown",
   "metadata": {},
   "source": [
    "$$  \n",
    "y = x^Tx,  \\quad x \\in \\mathbb{R}^N \n",
    "$$"
   ]
  },
  {
   "cell_type": "markdown",
   "metadata": {},
   "source": [
    "$$\n",
    "\\frac{dy}{dx} = \n",
    "$$ "
   ]
  },
  {
   "cell_type": "markdown",
   "metadata": {
    "tags": []
   },
   "source": [
    "$x \\in \\mathbb{R}^{N \\times 1}$, $x^T \\in \\mathbb{R}^{1 \\times N}$, следовательно, $y \\in \\mathbb{R}^{1 \\times 1}$.\n",
    "\n",
    "$y = x^T x = \\sum\\limits_{i=1}^N x_i^2$\n",
    "\n",
    "$\\frac{dy}{dx} = \\left[\\frac{dy}{dx_1}, ..., \\frac{dy}{dx_N}\\right]$\n",
    "\n",
    "$\\frac{dy}{dx_i} = \\frac{d}{dx_i}\\left(x_i^2\\right) = 2x_i$\n",
    "\n",
    "$\\frac{dy}{dx} = \\left[2x_1, ..., 2x_N\\right] = 2 x^T$\n",
    "\n",
    "Ответ: $\\frac{dy}{dx} = 2 x^T$"
   ]
  },
  {
   "cell_type": "markdown",
   "metadata": {},
   "source": [
    "## ex. 2"
   ]
  },
  {
   "cell_type": "markdown",
   "metadata": {},
   "source": [
    "$$ y = tr(AB) \\quad A,B \\in \\mathbb{R}^{N \\times N} $$ "
   ]
  },
  {
   "cell_type": "markdown",
   "metadata": {},
   "source": [
    "$$\n",
    "\\frac{dy}{dA} =\n",
    "$$"
   ]
  },
  {
   "cell_type": "markdown",
   "metadata": {
    "tags": []
   },
   "source": [
    "$tr(AB) = \\sum\\limits_{i = 1}^N \\sum\\limits_{k = 1}^N a_{ik}b_{ki}$\n",
    "\n",
    "${\\left(\\frac{d}{dA} tr(AB)\\right)}_{ij} = \\frac{\\partial}{\\partial a_{ij}} tr(AB) = \\frac{\\partial}{\\partial a_{ij}}\\left(\\sum\\limits_{l = 1}^N \\sum\\limits_{k = 1}^N a_{lk}b_{kl}\\right) = b_{ji}$\n",
    "\n",
    "Ответ: $\\frac{dy}{dA} = B^T$"
   ]
  },
  {
   "cell_type": "markdown",
   "metadata": {},
   "source": [
    "## ex. 3"
   ]
  },
  {
   "cell_type": "markdown",
   "metadata": {},
   "source": [
    "$$  \n",
    "y = x^TAc , \\quad A\\in \\mathbb{R}^{N \\times N}, x\\in \\mathbb{R}^{N}, c\\in \\mathbb{R}^{N} \n",
    "$$"
   ]
  },
  {
   "cell_type": "markdown",
   "metadata": {},
   "source": [
    "$$\n",
    "\\frac{dy}{dx} =\n",
    "$$"
   ]
  },
  {
   "cell_type": "markdown",
   "metadata": {},
   "source": [
    "$$\n",
    "\\frac{dy}{dA} =\n",
    "$$ "
   ]
  },
  {
   "cell_type": "markdown",
   "metadata": {},
   "source": [
    "Hint for the latter (one of the ways): use *ex. 2* result and the fact \n",
    "$$\n",
    "tr(ABC) = tr (CAB)\n",
    "$$"
   ]
  },
  {
   "cell_type": "markdown",
   "metadata": {
    "jupyter": {
     "outputs_hidden": true
    }
   },
   "source": [
    "Пусть $w = Ac$\n",
    "\n",
    "$y = x^TAc = \\sum\\limits_{i = 1}^N x_i w_i = \\sum\\limits_{i = 1}^N \\sum\\limits_{j = 1}^N x_i a_{ij} c_j$\n",
    "\n",
    "$\\frac{dy}{dx} = \\left[\\frac{dy}{dx_1}, ..., \\frac{dy}{dx_N}\\right]$\n",
    "\n",
    "$\\frac{dy}{dx_i} = \\sum\\limits_{j = 1}^N a_{ij}c_j = w_i$, следовательно, $\\frac{dy}{dx} = \\left[w_1, ..., w_N\\right] = w^T = {(Ac)}^T = c^TA^T$\n",
    "\n",
    "${\\left(\\frac{dy}{dA}\\right)}_{ij} = \\frac{\\partial y}{\\partial a_{ij}} = x_i c_j$\n",
    "\n",
    "$\\frac{dy}{dA} = xc^T$\n",
    "\n",
    "Ответ: $\\frac{dy}{dx} = c^TA^T$, $\\quad$ $\\frac{dy}{dA} = xc^T$"
   ]
  },
  {
   "cell_type": "markdown",
   "metadata": {},
   "source": [
    "## ex. 4"
   ]
  },
  {
   "cell_type": "markdown",
   "metadata": {},
   "source": [
    "Classic matrix factorization example. Given matrix $X$ you need to find $A$, $S$ to approximate $X$. This can be done by simple gradient descent iteratively alternating $A$ and $S$ updates.\n",
    "$$\n",
    "J = || X - AS ||_F^2  , \\quad A\\in \\mathbb{R}^{N \\times R} , \\quad S\\in \\mathbb{R}^{R \\times M}\n",
    "$$\n",
    "$$\n",
    "\\frac{dJ}{dS} = ? \n",
    "$$\n",
    "\n",
    "You may use one of the following approaches:"
   ]
  },
  {
   "cell_type": "markdown",
   "metadata": {},
   "source": [
    "#### First approach\n",
    "Using ex.2 and the fact:\n",
    "$$\n",
    "|| X ||_F^2 = tr(XX^T) \n",
    "$$ \n",
    "it is easy to derive gradients (you can find it in one of the refs). "
   ]
  },
  {
   "cell_type": "markdown",
   "metadata": {},
   "source": [
    "#### Second approach\n",
    "You can use *slightly different techniques* if they suits you. Take a look at this derivation:\n",
    "<img src=\"grad.png\">\n",
    "(excerpt from [Handbook of blind source separation, Jutten, page 517](https://books.google.ru/books?id=PTbj03bYH6kC&printsec=frontcover&dq=Handbook+of+Blind+Source+Separation&hl=en&sa=X&ved=0ahUKEwi-q_apiJDLAhULvXIKHVXJDWcQ6AEIHDAA#v=onepage&q=Handbook%20of%20Blind%20Source%20Separation&f=false), open for better picture)."
   ]
  },
  {
   "cell_type": "markdown",
   "metadata": {},
   "source": [
    "#### Third approach\n",
    "And finally we can use chain rule! \n",
    "let $ F = AS $ \n",
    "\n",
    "**Find**\n",
    "$$\n",
    "\\frac{dJ}{dF} =  \n",
    "$$ \n",
    "and \n",
    "$$\n",
    "\\frac{dF}{dS} =  \n",
    "$$ \n",
    "(the shape should be $ NM \\times RM )$.\n",
    "\n",
    "Now it is easy do get desired gradients:\n",
    "$$\n",
    "\\frac{dJ}{dS} =  \n",
    "$$ "
   ]
  },
  {
   "cell_type": "markdown",
   "metadata": {},
   "source": [
    "$A \\in \\mathbb{R}^{N\\times R}, S \\in \\mathbb{R}^{R\\times M}, X \\in \\mathbb{R}^{N\\times M}$\n",
    "\n",
    "Пусть $B = X - AS$, тогда \n",
    "\n",
    "$b_{ij} = x_{ij} - \\sum\\limits_{\\xi = 1}^R a_{i\\xi} s_{\\xi j}$\n",
    "\n",
    "${(BB^T)}_{ij} = \\sum\\limits_{k = 1}^M b_{ik} b_{jk}$\n",
    "\n",
    "$J = {\\|X - AS\\|}_F^2 = tr\\left((X - AS){(X - AS)}^T\\right) = tr \\left( BB^T \\right) = \\sum\\limits_{l = 1}^N \\sum\\limits_{k = 1}^M {\\left(x_{lk} - \\sum\\limits_{\\xi = 1}^R a_{l\\xi}s_{\\xi j}\\right)}^2 = \\sum\\limits_{l = 1}^N \\sum\\limits_{k = 1}^M x_{lk}^2 - 2\\sum\\limits_{l = 1}^N\\sum\\limits_{k = 1}^M\\sum\\limits_{\\xi = 1}^R x_{lk}a_{l\\xi}s_{\\xi k} + \\sum\\limits_{l = 1}^N\\sum\\limits_{k = 1}^M {\\left( \\sum\\limits_{\\xi = 1}^R a_{l\\xi} s_{\\xi k} \\right)}^2$\n",
    "\n",
    "${\\left(\\frac{dJ}{dS}\\right)}_{ij} = \\frac{\\partial J}{\\partial s_{ij}} = - 2\\sum\\limits_{l = 1}^N\\sum\\limits_{k = 1}^M\\sum\\limits_{\\xi = 1}^R \\frac{\\partial}{\\partial x_{ij}}\\left(x_{lk}a_{l\\xi}s_{\\xi k}\\right) + 2\\sum\\limits_{l = 1}^N\\sum\\limits_{k = 1}^M \\left[\\left(\\sum\\limits_{\\xi = 1}^R a_{l\\xi}s_{\\xi k}\\right)\\frac{\\partial}{\\partial s_{ij}}\\left(\\sum\\limits_{\\xi = 1}^R a_{l \\xi}s_{\\xi k}\\right)\\right] = 2\\sum\\limits_{l = 1}^N\\left[\\left(\\sum\\limits_{\\xi = 1}^R a_{l \\xi}s_{\\xi j}\\right)a_{li}\\right] - 2\\sum\\limits_{l = 1}^N x_{lj}a_{li} = 2 \\sum\\limits_{l = 1}^N \\left[{\\left(AS\\right)}_{lj}a_{li}\\right] - 2{\\left(X^TA\\right)}_{ji} = 2{\\left(S^TA^TA\\right)}_{ji} - 2{\\left(X^TA\\right)}_{ji} = 2{\\left(A^TAS\\right)}_{ij} - 2{\\left(A^TX\\right)}_{ij}$\n",
    "\n",
    "Ответ: $\\frac{dJ}{dS} = 2\\left(A^TAS - A^TX\\right)$"
   ]
  },
  {
   "cell_type": "markdown",
   "metadata": {
    "jupyter": {
     "outputs_hidden": true
    }
   },
   "source": [
    "## 2. kNN questions\n",
    "Here come the questions from the assignment0_01. Please, refer to the assignment0_01 to get the context of the questions."
   ]
  },
  {
   "cell_type": "markdown",
   "metadata": {},
   "source": [
    "### Question 1\n",
    "\n",
    "Notice the structured patterns in the distance matrix, where some rows or columns are visible brighter. (Note that with the default color scheme black indicates low distances while white indicates high distances.)\n",
    "\n",
    "- What in the data is the cause behind the distinctly bright rows?\n",
    "- What causes the columns?\n",
    "\n",
    "*Your Answer:*\n",
    "\n",
    "Согласно описанию из первого задания по KNN, если $D$ - матрица расстояний, то ${(D)}_{ij}$ - расстояние между $i$-ым элементов тестовой выборки и $j$-ым элементом обучающей выборки.\n",
    "\n",
    "- Элемент тестовой выборки находится далеко от всех элементов обучающей выборки. Выброс в тестовых данных.\n",
    "- Элемент обучающей выборки далеко от всех элементов тестовой выборки. Выброс в обучающей выборке."
   ]
  },
  {
   "cell_type": "markdown",
   "metadata": {},
   "source": [
    "### Question 2\n",
    "\n",
    "We can also use other distance metrics such as L1 distance.\n",
    "For pixel values $p_{ij}^{(k)}$ at location $(i,j)$ of some image $I_k$, \n",
    "\n",
    "the mean $\\mu$ across all pixels over all images is $$\\mu=\\frac{1}{nhw}\\sum_{k=1}^n\\sum_{i=1}^{h}\\sum_{j=1}^{w}p_{ij}^{(k)}$$\n",
    "And the pixel-wise mean $\\mu_{ij}$ across all images is \n",
    "$$\\mu_{ij}=\\frac{1}{n}\\sum_{k=1}^np_{ij}^{(k)}.$$\n",
    "The general standard deviation $\\sigma$ and pixel-wise standard deviation $\\sigma_{ij}$ is defined similarly.\n",
    "\n",
    "Which of the following preprocessing steps will not change the performance of a Nearest Neighbor classifier that uses L1 distance? Select all that apply.\n",
    "1. Subtracting the mean $\\mu$ ($\\tilde{p}_{ij}^{(k)}=p_{ij}^{(k)}-\\mu$.)\n",
    "2. Subtracting the per pixel mean $\\mu_{ij}$  ($\\tilde{p}_{ij}^{(k)}=p_{ij}^{(k)}-\\mu_{ij}$.)\n",
    "3. Subtracting the mean $\\mu$ and dividing by the standard deviation $\\sigma$.\n",
    "4. Subtracting the pixel-wise mean $\\mu_{ij}$ and dividing by the pixel-wise standard deviation $\\sigma_{ij}$.\n",
    "5. Rotating the coordinate axes of the data.\n",
    "\n",
    "*Your Answer:*\n",
    "\n",
    "1, 2, 3, 5\n",
    "\n",
    "*Your Explanation:*\n",
    "\n",
    "Пусть $d_{ij} = \\sum\\limits_{k = 1}^h \\sum\\limits_{l = 1}^w |p_{kl}^{(i)} - p_{kl}^{(j)}|$\n",
    "\n",
    "1) $\\tilde {d_{ij}} = \\sum\\limits_{k = 1}^h \\sum\\limits_{l = 1}^w |\\tilde p_{kl}^{(i)} - \\tilde p_{kl}^{(j)}| = \\sum\\limits_{k = 1}^h \\sum\\limits_{l = 1}^w |p_{kl}^{(i)} - \\mu - p_{kl}^{(j)} + \\mu| = \\sum\\limits_{k = 1}^h \\sum\\limits_{l = 1}^w |p_{kl}^{(i)} - p_{kl}^{(j)}| = d_{ij}$\n",
    "\n",
    "2) $\\tilde {d_{ij}} = \\sum\\limits_{k = 1}^h \\sum\\limits_{l = 1}^w |\\tilde p_{kl}^{(i)} - \\tilde p_{kl}^{(j)}| = \\sum\\limits_{k = 1}^h \\sum\\limits_{l = 1}^w |p_{kl}^{(i)} - \\mu_{kl} - p_{kl}^{(j)} + \\mu_{kl}| = \\sum\\limits_{k = 1}^h \\sum\\limits_{l = 1}^w |p_{kl}^{(i)} - p_{kl}^{(j)}| = d_{ij}$\n",
    "\n",
    "3) $\\tilde {d_{ij}} = \\sum\\limits_{k = 1}^h \\sum\\limits_{l = 1}^w |\\tilde p_{kl}^{(i)} - \\tilde p_{kl}^{(j)}| = \\sum\\limits_{k = 1}^h \\sum\\limits_{l = 1}^w |\\frac{p_{kl}^{(i)} - \\mu}{\\sigma} - \\frac{p_{kl}^{(j)} - \\mu}{\\sigma}| = \\frac{1}{\\sigma} \\sum\\limits_{k = 1}^h \\sum\\limits_{l = 1}^w |p_{kl}^{(i)} - p_{kl}^{(j)}| = \\frac{d_{ij}}{\\sigma}$\n",
    "\n",
    "масштабирование на положительную константу не влияет на соотношение попарных расстояний, т.е. $d_{ij} > d_{kl} <=> \\tilde d_{ij} > \\tilde d_{kl}$\n",
    "\n",
    "*Rem* можно было бы сказать, что уменьшение расстояний по абсолютной величине может привести к необходимости рабоать с маленькими величинами, что уже может привести к увеличению погрешности сравнений расстояний между собой и негативно отразиться на качестве модели. Но, как я понял, тут вопрос не про это. Исходя из математических соображений, данное преобразование не скажется на качестве модели.\n",
    "\n",
    "4) Пусть даны различные $a, b \\in [1, h], c, d \\in [1, w], i, j, \\xi \\in [1, n]$\n",
    "\n",
    "Пусть \n",
    "\n",
    "$p_{ac}^{(i)}, p_{ac}^{(j)}, p_{ac}^{(\\xi)}$: $|p_{ac}^{(i)} - p_{ac}^{(j)}| - |p_{ac}^{(i)} - p_{ac}^{(\\xi)}| = L$\n",
    "\n",
    "\n",
    "$p_{bd}^{(i)}, p_{bd}^{(j)}, p_{bd}^{(\\xi)}$: $|p_{bd}^{(i)} - p_{bd}^{(j)}| - |p_{bd}^{(i)} - p_{bd}^{(\\xi)}| = -\\frac{L}{2}$\n",
    "\n",
    "Пусть остальные $p_{kl}^{(i)}, p_{kl}^{(j)}, p_{kl}^{(\\xi)}$ равны между собой\n",
    "\n",
    "Тогда \n",
    "\n",
    "$F = d_{ij} - d_{i\\xi} = \\sum\\limits_{k = 1}^h \\sum\\limits_{l = 1}^w \\left[|p_{kl}^{(i)} - p_{kl}^{(j)}| - |p_{kl}^{(i)} - p_{kl}^{(\\xi)}| \\right] = \\left[|p_{ac}^{(i)} - p_{ac}^{(j)}| - |p_{ac}^{(i)} - p_{ac}^{(\\xi)}| \\right] + \\left[|p_{bd}^{(i)} - p_{bd}^{(j)}| - |p_{bd}^{(i)} - p_{bd}^{(\\xi)}| \\right] = L - \\frac{L}{2} = \\frac{L}{2} > 0$\n",
    "\n",
    "$F = d_{ij} - d_{i\\xi} = \\sum\\limits_{k = 1}^h \\sum\\limits_{l = 1}^w \\left[|p_{kl}^{(i)} - p_{kl}^{(j)}| - |p_{kl}^{(i)} - p_{kl}^{(\\xi)}| \\right] = \\left[|p_{ac}^{(i)} - p_{ac}^{(j)}| - |p_{ac}^{(i)} - p_{ac}^{(\\xi)}| \\right] + \\left[|p_{bd}^{(i)} - p_{bd}^{(j)}| - |p_{bd}^{(i)} - p_{bd}^{(\\xi)}| \\right] = L - \\frac{L}{2} = \\frac{L}{2} > 0$\n",
    "\n",
    "$\\tilde F = \\tilde d_{ij} - \\tilde d_{i\\xi} = \\sum\\limits_{k = 1}^h \\sum\\limits_{l = 1}^w \\frac{1}{\\sigma_{kl}} \\left[|p_{kl}^{(i)} - p_{kl}^{(j)}| - |p_{kl}^{(i)} - p_{kl}^{(\\xi)}| \\right] = \\frac{1}{\\sigma_{ac}} \\left[|p_{ac}^{(i)} - p_{ac}^{(j)}| - |p_{ac}^{(i)} - p_{ac}^{(\\xi)}| \\right] + \\frac{1}{\\sigma_{bd}} \\left[|p_{bd}^{(i)} - p_{bd}^{(j)}| - |p_{bd}^{(i)} - p_{bd}^{(\\xi)}| \\right] = \\frac{1}{\\sigma_{ac}} L - \\frac{1}{\\sigma_{bd}}\\frac{L}{2}$\n",
    "\n",
    "Пусть $\\sigma_{ac} = 2$, $\\sigma_{bd} = \\frac{1}{2}$, тогда \n",
    "\n",
    "$\\tilde F = \\frac{L}{2} - L = - \\frac{L}{2} < 0$\n",
    "\n",
    "Таким образом, построен пример, из которого следует, что $d_{ij} > d_{i\\xi}$, но $\\tilde d_{ij} < \\tilde d_{i\\xi}$.\n",
    "\n",
    "5. Вращение координатных осей не влияет на попарное расстояние между точками (если, при этом, взаимное расположение осей друг относительно друга сохраняется)"
   ]
  },
  {
   "cell_type": "markdown",
   "metadata": {},
   "source": [
    "## Question 3\n",
    "\n",
    "Which of the following statements about $k$-Nearest Neighbor ($k$-NN) are true in a classification setting, and for all $k$? Select all that apply.\n",
    "1. The decision boundary (hyperplane between classes in feature space) of the k-NN classifier is linear.\n",
    "2. The training error of a 1-NN will always be lower than that of 5-NN.\n",
    "3. The test error of a 1-NN will always be lower than that of a 5-NN.\n",
    "4. The time needed to classify a test example with the k-NN classifier grows with the size of the training set.\n",
    "5. None of the above.\n",
    "\n",
    "*Your Answer:*\n",
    "\n",
    "2, 4\n",
    "\n",
    "*Your Explanation:*\n",
    "\n",
    "1. KNN не строит разделяющую поверхность\n",
    "2. Если речь про ошибку на примерах их обучающей выборки, то да, т.к. 1-NN классифкатор надет тот пример, на котором расстояние миниально (это же пример и найдет), и ошибка будет равна 0 для любого примера и обучающей выборки. В случае с 5-NN помимо самого пример, будет также посчитано расстояние до 4-х ближайших соседей, поэтому ошибка будет выше.\n",
    "3. Нет, т.к. 1-NN будет строить предсказания только на 1 ближайшем соседе, а 5-NN на 5-и ближайших соседях.\n",
    "4. Да, т.к. для построения предсказания классификатора, необходимо пройтись матрице расстояний и найти k ближайших элементов. Соответственно, чем больше элементов участоввало в обучении, тем больше потенциальных соседей необходимо перебрать.\n"
   ]
  }
 ],
 "metadata": {
  "kernelspec": {
   "display_name": "Python 3 (ipykernel)",
   "language": "python",
   "name": "python3"
  },
  "language_info": {
   "codemirror_mode": {
    "name": "ipython",
    "version": 3
   },
   "file_extension": ".py",
   "mimetype": "text/x-python",
   "name": "python",
   "nbconvert_exporter": "python",
   "pygments_lexer": "ipython3",
   "version": "3.8.12"
  }
 },
 "nbformat": 4,
 "nbformat_minor": 4
}

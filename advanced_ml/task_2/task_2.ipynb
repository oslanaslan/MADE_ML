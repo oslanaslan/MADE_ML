{
 "cells": [
  {
   "cell_type": "code",
   "execution_count": 1,
   "metadata": {},
   "outputs": [],
   "source": [
    "import os\n",
    "import pickle\n",
    "\n",
    "import pandas as pd\n",
    "import numpy as np"
   ]
  },
  {
   "cell_type": "code",
   "execution_count": 2,
   "metadata": {},
   "outputs": [],
   "source": [
    "DATA_PATH = 'data'\n",
    "PLAYERS_DATA = os.path.join(DATA_PATH, 'players.pkl')\n",
    "RESULTS_DATA = os.path.join(DATA_PATH, 'results.pkl')\n",
    "TOURNAMENT_DATA = os.path.join(DATA_PATH, 'tournaments.pkl')\n",
    "PLAYERS_CSV = os.path.join(DATA_PATH, 'players.csv')\n",
    "RESULTS_CSV = os.path.join(DATA_PATH, 'results.csv')\n",
    "TOURNAMENT_CSV = os.path.join(DATA_PATH, 'tournaments.csv')"
   ]
  },
  {
   "cell_type": "code",
   "execution_count": null,
   "metadata": {},
   "outputs": [],
   "source": [
    "if not os.path.exists(PLAYERS_CSV):\n",
    "    print(f'Reading {PLAYERS_DATA}')\n",
    "    with open(PLAYERS_DATA, 'rb') as fin:\n",
    "        players_df = pickle.load(fin)\n",
    "    players_df = pd.DataFrame(players_df).T\n",
    "    players_df.to_csv(PLAYERS_CSV, index=None)\n",
    "else:\n",
    "    print(f'Reading {PLAYERS_CSV}')\n",
    "    players_df = pd.read_csv(PLAYERS_CSV)\n",
    "players_df"
   ]
  },
  {
   "cell_type": "code",
   "execution_count": null,
   "metadata": {},
   "outputs": [],
   "source": [
    "if not os.path.exists(TOURNAMENT_CSV):\n",
    "    print(f'Reading {TOURNAMENT_DATA}')\n",
    "\n",
    "    with open(TOURNAMENT_DATA, 'rb') as fin:\n",
    "        tournament_dict = pickle.load(fin)\n",
    "\n",
    "    tournament_df = {\n",
    "        'id': [],\n",
    "        'name': [],\n",
    "        'date_start': [],\n",
    "        'date_end': [],\n",
    "        'type_id': [],\n",
    "        'type_name': [],\n",
    "        'season': [],\n",
    "        # 'orgcommittee_id': [],\n",
    "        # 'orgcommittee_name': [],\n",
    "        # 'orgcommittee_patronymic': [],\n",
    "        # 'orgcommittee_surname': [],\n",
    "        'synch_data': [],\n",
    "        'question_qty': []\n",
    "    }\n",
    "\n",
    "    for t_id in tournament_dict:\n",
    "        tournament_df['id'].append(t_id)\n",
    "        tournament_df['name'].append(tournament_dict[t_id]['name'])\n",
    "        tournament_df['date_start'].append(tournament_dict[t_id]['dateStart'])\n",
    "        tournament_df['date_end'].append(tournament_dict[t_id]['dateEnd'])\n",
    "        tournament_df['type_id'].append(tournament_dict[t_id]['type']['id'])\n",
    "        tournament_df['type_name'].append(tournament_dict[t_id]['type']['name'])\n",
    "        tournament_df['season'].append(tournament_dict[t_id]['season'])\n",
    "        tournament_df['synch_data'].append(tournament_dict[t_id]['synchData'])\n",
    "        tournament_df['question_qty'].append(tournament_dict[t_id]['questionQty'])\n",
    "\n",
    "    tournament_df = pd.DataFrame(tournament_df)\n",
    "    tournament_df.to_csv(TOURNAMENT_CSV, index=False)\n",
    "else:\n",
    "    print(f'Reading {TOURNAMENT_CSV}')\n",
    "\n",
    "    tournament_df = pd.read_csv(TOURNAMENT_CSV)\n",
    "\n",
    "tournament_df"
   ]
  },
  {
   "cell_type": "code",
   "execution_count": null,
   "metadata": {},
   "outputs": [],
   "source": [
    "with open(RESULTS_DATA, 'rb') as fin:\n",
    "    results_df = pickle.load(fin)\n",
    "results_df"
   ]
  },
  {
   "cell_type": "code",
   "execution_count": null,
   "metadata": {},
   "outputs": [],
   "source": [
    "results_df[1][0]"
   ]
  },
  {
   "cell_type": "code",
   "execution_count": null,
   "metadata": {},
   "outputs": [],
   "source": []
  },
  {
   "cell_type": "code",
   "execution_count": null,
   "metadata": {},
   "outputs": [],
   "source": []
  },
  {
   "cell_type": "code",
   "execution_count": null,
   "metadata": {},
   "outputs": [],
   "source": [
    "for itm in tournament_df:\n",
    "    print(itm, len(tournament_df[itm]))"
   ]
  },
  {
   "cell_type": "code",
   "execution_count": null,
   "metadata": {},
   "outputs": [],
   "source": []
  }
 ],
 "metadata": {
  "interpreter": {
   "hash": "28a0d3c5992644907880f77c2e95ee47d6c9c4b93b2d7adc520f37143b16d1fc"
  },
  "kernelspec": {
   "display_name": "Python 3.8.12 ('ml_env')",
   "language": "python",
   "name": "python3"
  },
  "language_info": {
   "codemirror_mode": {
    "name": "ipython",
    "version": 3
   },
   "file_extension": ".py",
   "mimetype": "text/x-python",
   "name": "python",
   "nbconvert_exporter": "python",
   "pygments_lexer": "ipython3",
   "version": "3.8.12"
  },
  "orig_nbformat": 4
 },
 "nbformat": 4,
 "nbformat_minor": 2
}
